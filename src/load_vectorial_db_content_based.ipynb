{
 "cells": [
  {
   "cell_type": "code",
   "id": "initial_id",
   "metadata": {
    "collapsed": true,
    "ExecuteTime": {
     "end_time": "2024-08-25T08:09:44.311594Z",
     "start_time": "2024-08-25T08:09:43.826001Z"
    }
   },
   "source": [
    "import pandas as pd\n",
    "import os"
   ],
   "outputs": [],
   "execution_count": 1
  },
  {
   "metadata": {
    "ExecuteTime": {
     "end_time": "2024-08-25T08:09:46.745951Z",
     "start_time": "2024-08-25T08:09:46.622423Z"
    }
   },
   "cell_type": "code",
   "source": [
    "df = pd.read_csv('/Users/danielepica/Documents/GitHub/recommender_system_llm/src/books_recommendation.csv')\n",
    "df = df[:100]"
   ],
   "id": "176b9357e736cb7e",
   "outputs": [],
   "execution_count": 2
  },
  {
   "metadata": {
    "ExecuteTime": {
     "end_time": "2024-08-25T08:09:49.011073Z",
     "start_time": "2024-08-25T08:09:49.005144Z"
    }
   },
   "cell_type": "code",
   "source": "df.head()",
   "id": "8d0c1201eff16fb5",
   "outputs": [
    {
     "data": {
      "text/plain": [
       "                                          books_info\n",
       "0  title:The Church of Christ: A Biblical Ecclesi...\n",
       "1  title:No place to cry: The hurt and healing of...\n",
       "2  title:Night World: Daughters Of Darkness, desc...\n",
       "3  title:The Rabbi's Cat, description:Gaining the...\n",
       "4  title:From Potter's Field, description:The six..."
      ],
      "text/html": [
       "<div>\n",
       "<style scoped>\n",
       "    .dataframe tbody tr th:only-of-type {\n",
       "        vertical-align: middle;\n",
       "    }\n",
       "\n",
       "    .dataframe tbody tr th {\n",
       "        vertical-align: top;\n",
       "    }\n",
       "\n",
       "    .dataframe thead th {\n",
       "        text-align: right;\n",
       "    }\n",
       "</style>\n",
       "<table border=\"1\" class=\"dataframe\">\n",
       "  <thead>\n",
       "    <tr style=\"text-align: right;\">\n",
       "      <th></th>\n",
       "      <th>books_info</th>\n",
       "    </tr>\n",
       "  </thead>\n",
       "  <tbody>\n",
       "    <tr>\n",
       "      <th>0</th>\n",
       "      <td>title:The Church of Christ: A Biblical Ecclesi...</td>\n",
       "    </tr>\n",
       "    <tr>\n",
       "      <th>1</th>\n",
       "      <td>title:No place to cry: The hurt and healing of...</td>\n",
       "    </tr>\n",
       "    <tr>\n",
       "      <th>2</th>\n",
       "      <td>title:Night World: Daughters Of Darkness, desc...</td>\n",
       "    </tr>\n",
       "    <tr>\n",
       "      <th>3</th>\n",
       "      <td>title:The Rabbi's Cat, description:Gaining the...</td>\n",
       "    </tr>\n",
       "    <tr>\n",
       "      <th>4</th>\n",
       "      <td>title:From Potter's Field, description:The six...</td>\n",
       "    </tr>\n",
       "  </tbody>\n",
       "</table>\n",
       "</div>"
      ]
     },
     "execution_count": 3,
     "metadata": {},
     "output_type": "execute_result"
    }
   ],
   "execution_count": 3
  },
  {
   "metadata": {
    "ExecuteTime": {
     "end_time": "2024-08-25T08:13:01.457477Z",
     "start_time": "2024-08-25T08:13:00.591027Z"
    }
   },
   "cell_type": "code",
   "source": [
    "#!pip install chromadb langchain\n",
    "from langchain.embeddings import OllamaEmbeddings\n",
    "from langchain.llms import Ollama\n",
    "from langchain.vectorstores import Chroma\n",
    "import os\n",
    "\n",
    "embeddings = OllamaEmbeddings(model='mxbai-embed-large', show_progress=True)\n",
    "llm = Ollama(model='llama3')\n",
    "\n",
    "#create a new Chroma vector store (index)\n",
    "persist_directory = 'db_persist'\n",
    "#Check if the directory already exists\n",
    "if os.path.exists(persist_directory):\n",
    "    #Remove the directory and its contents\n",
    "    import shutil\n",
    "    shutil.rmtree(persist_directory)\n",
    "\n",
    "recommend_db = Chroma(embedding_function=embeddings, persist_directory=persist_directory)\n",
    "\n",
    "# Crea embeddings riga per riga e salva in Chroma\n",
    "for idx, row in df.iterrows():\n",
    "    # Estrarre l'informazione combinata\n",
    "    document_text = row['books_info']\n",
    "   \n",
    "    # Aggiungere il documento alla base di dati vettoriale Chroma\n",
    "    recommend_db.add_texts(texts=[document_text], metadatas=[{'user_id': idx}])\n",
    "\n",
    "# Persistenza dei dati\n",
    "recommend_db.persist() #NON è PIù NECESSARIO\n"
   ],
   "id": "76548940e288eaf5",
   "outputs": [
    {
     "ename": "AttributeError",
     "evalue": "'str' object has no attribute 'page_content'",
     "output_type": "error",
     "traceback": [
      "\u001B[0;31m---------------------------------------------------------------------------\u001B[0m",
      "\u001B[0;31mAttributeError\u001B[0m                            Traceback (most recent call last)",
      "Cell \u001B[0;32mIn[4], line 26\u001B[0m\n\u001B[1;32m     24\u001B[0m document_text \u001B[38;5;241m=\u001B[39m row[\u001B[38;5;124m'\u001B[39m\u001B[38;5;124mbooks_info\u001B[39m\u001B[38;5;124m'\u001B[39m]\n\u001B[1;32m     25\u001B[0m text_splitter \u001B[38;5;241m=\u001B[39m CharacterTextSplitter(chunk_size\u001B[38;5;241m=\u001B[39m\u001B[38;5;241m1000\u001B[39m, chunk_overlap\u001B[38;5;241m=\u001B[39m\u001B[38;5;241m100\u001B[39m)\n\u001B[0;32m---> 26\u001B[0m texts \u001B[38;5;241m=\u001B[39m \u001B[43mtext_splitter\u001B[49m\u001B[38;5;241;43m.\u001B[39;49m\u001B[43msplit_documents\u001B[49m\u001B[43m(\u001B[49m\u001B[43mdocument_text\u001B[49m\u001B[43m)\u001B[49m\n\u001B[1;32m     27\u001B[0m \u001B[38;5;28;01mfor\u001B[39;00m text \u001B[38;5;129;01min\u001B[39;00m texts:\n\u001B[1;32m     28\u001B[0m \n\u001B[1;32m     29\u001B[0m \u001B[38;5;66;03m# Aggiungere il documento alla base di dati vettoriale Chroma\u001B[39;00m\n\u001B[1;32m     30\u001B[0m     recommend_db\u001B[38;5;241m.\u001B[39madd_texts(texts\u001B[38;5;241m=\u001B[39m[text])\n",
      "File \u001B[0;32m/opt/anaconda3/envs/LangChain/lib/python3.8/site-packages/langchain_text_splitters/base.py:94\u001B[0m, in \u001B[0;36mTextSplitter.split_documents\u001B[0;34m(self, documents)\u001B[0m\n\u001B[1;32m     92\u001B[0m texts, metadatas \u001B[38;5;241m=\u001B[39m [], []\n\u001B[1;32m     93\u001B[0m \u001B[38;5;28;01mfor\u001B[39;00m doc \u001B[38;5;129;01min\u001B[39;00m documents:\n\u001B[0;32m---> 94\u001B[0m     texts\u001B[38;5;241m.\u001B[39mappend(\u001B[43mdoc\u001B[49m\u001B[38;5;241;43m.\u001B[39;49m\u001B[43mpage_content\u001B[49m)\n\u001B[1;32m     95\u001B[0m     metadatas\u001B[38;5;241m.\u001B[39mappend(doc\u001B[38;5;241m.\u001B[39mmetadata)\n\u001B[1;32m     96\u001B[0m \u001B[38;5;28;01mreturn\u001B[39;00m \u001B[38;5;28mself\u001B[39m\u001B[38;5;241m.\u001B[39mcreate_documents(texts, metadatas\u001B[38;5;241m=\u001B[39mmetadatas)\n",
      "\u001B[0;31mAttributeError\u001B[0m: 'str' object has no attribute 'page_content'"
     ]
    }
   ],
   "execution_count": 4
  },
  {
   "metadata": {
    "ExecuteTime": {
     "end_time": "2024-08-26T18:19:59.546327Z",
     "start_time": "2024-08-26T18:19:59.482679Z"
    }
   },
   "cell_type": "code",
   "source": [
    "persist_directory = 'db_persist'\n",
    "embeddings = OllamaEmbeddings(model='mxbai-embed-large', show_progress=True)\n",
    "recommend_db = Chroma(embedding_function=embeddings, persist_directory=persist_directory)\n"
   ],
   "id": "b39eb526b4761dbf",
   "outputs": [],
   "execution_count": 12
  },
  {
   "metadata": {
    "ExecuteTime": {
     "end_time": "2024-08-23T16:37:51.723685Z",
     "start_time": "2024-08-23T16:37:51.628872Z"
    }
   },
   "cell_type": "code",
   "source": [
    "#1 Metodo\n",
    "docs = recommend_db.similarity_search(query4, k=5)\n",
    "docs"
   ],
   "id": "7a5eff569ee83cb4",
   "outputs": [
    {
     "name": "stderr",
     "output_type": "stream",
     "text": [
      "OllamaEmbeddings: 100%|██████████| 1/1 [00:00<00:00, 11.53it/s]\n"
     ]
    },
    {
     "data": {
      "text/plain": [
       "[Document(metadata={'user_id': 5}, page_content=\"title:Economics in one lesson, description:With over a million copies sold, Economics in One Lesson is an essential guide to the basics of economic theory. A fundamental influence on modern libertarianism, Hazlitt defends capitalism and the free market from economic myths that persist to this day. Considered among the leading economic thinkers of the “Austrian School,” which includes Carl Menger, Ludwig von Mises, Friedrich (F.A.) Hayek, and others, Henry Hazlitt (1894-1993), was a libertarian philosopher, an economist, and a journalist. He was the founding vice-president of the Foundation for Economic Education and an early editor of The Freeman magazine, an influential libertarian publication. Hazlitt wrote Economics in One Lesson, his seminal work, in 1946. Concise and instructive, it is also deceptively prescient and far-reaching in its efforts to dissemble economic fallacies that are so prevalent they have almost become a new orthodoxy. Economic commentators across the political spectrum have credited Hazlitt with foreseeing the collapse of the global economy which occurred more than 50 years after the initial publication of Economics in One Lesson. Hazlitt’s focus on non-governmental solutions, strong — and strongly reasoned — anti-deficit position, and general emphasis on free markets, economic liberty of individuals, and the dangers of government intervention make Economics in One Lesson every bit as relevant and valuable today as it has been since publication., authors:['Henry Hazlitt'], categories:['Business & Economics'], ratingsCount:18.0\"),\n",
       " Document(metadata={'user_id': 58}, page_content=\"title:Multiple Choice & Free-Response Questions in Preparation for the AP Calculus (AB) Examination / Student's Solutions Manual: Eighth Edition, description:Reader, your life is full of choices. Some will bring you joy and others will bring you heartache. Will you choose to cheat (in life, the examination that follows) or will you choose to copy? Will you fall in love? If so, will you remember her name and the number of freckles on her back? Will you marry, divorce, annul? Will you leave your run-down neighbourhood, your long-suffering country and your family? Will you honour your dead, those you loved and those you didn't? Will you have a child, will you regret it? Will you tell them you regret it? Will you, when all's said and done, deserve a kick in the balls? Will you find, here, in this slender book, fictions that entertain and puzzle you? Fictions that reflect yourself back to you? Will you find yourself? Relax, concentrate, dispel any anxious thoughts. Let the world around you settle and fade. Are you ready? Now turn over your papers, and begin., authors:['Alejandro Zambra'], categories:['Fiction'], ratingsCount:5.0\"),\n",
       " Document(metadata={'user_id': 98}, page_content=\"title:The 2 1/2 Pillars of Wisdom (The Von Igelfeld Trilogy), description:Welcome to the extraordinary world of Professor Dr. Moritz-Maria von Igelfeld, an unnaturally tall and memorable character whose sublime insouciance is a blend of the cultivated pomposity of Frasier Crane and Inspector Clouseau’s hapless gaucherie. The complete exploits of this unlikely adventurer are delightfully captured in The 21⁄2 Pillars of Wisdom., authors:['Alexander McCall Smith'], categories:['Fiction'], ratingsCount:4.0\"),\n",
       " Document(metadata={'user_id': 54}, page_content=\"title:Vindication, description:Mary Wollstonecraft’s visionary treatise, originally published in 1792, was the first book to present women’s rights as an issue of universal human rights. Ideal for coursework and classroom study, this comprehensive edition of Wollstonecraft’s heartfelt feminist argument includes illuminating essays by leading scholars that highlight the author’s significant contributions to modern political philosophy, making a powerful case for her as one of the most substantive political thinkers of the Enlightenment era. No other scholarly work to date has examined as closely both the ideological moorings and the enduring legacy of Wollstonecraft’s groundbreaking and courageous discourse., authors:['Mary Wollstonecraft'], categories:['Philosophy'], ratingsCount:4.0\"),\n",
       " Document(metadata={'user_id': 59}, page_content=\"title:BIRDS BEASTS AND RELATIVES., description:The follow up to My Family and Other Animals and the second book in The Corfu Trilogy, the beloved books that inspired ITV's television series The Durrells. Just before the Second World War the Durrell family decamped to the glorious, sun-soaked island of Corfu where the youngest of the four children, ten-year-old Gerald, discovered his passion for animals: toads and tortoises, bats and butterflies, scorpions and octopuses. Through glorious silver-green olive groves and across brilliant-white beaches Gerry pursued his obsession . . . causing hilarity and mayhem in his ever-tolerant family., authors:['Gerald Durrell'], categories:nan, ratingsCount:21.0\")]"
      ]
     },
     "execution_count": 8,
     "metadata": {},
     "output_type": "execute_result"
    }
   ],
   "execution_count": 8
  },
  {
   "metadata": {},
   "cell_type": "code",
   "outputs": [],
   "execution_count": null,
   "source": [
    "from langchain.chains.retrieval_qa.base import RetrievalQA\n",
    "\n",
    "#2 Metodo\n",
    "qa = RetrievalQA.from_chain_type(llm=llm, chain_type = \"stuff\", retriever = recommend_db.as_retriever(), return_source_documents=True, verbose=True)"
   ],
   "id": "afb89900ba5ccc7"
  },
  {
   "metadata": {},
   "cell_type": "code",
   "outputs": [],
   "execution_count": null,
   "source": [
    "query = \"I'm looking for an drama book. What could you suggest to me?\"\n",
    "result = qa({\"query\": query})\n",
    "result['result']"
   ],
   "id": "481a8d6104cefa2f"
  },
  {
   "metadata": {
    "ExecuteTime": {
     "end_time": "2024-08-23T16:23:49.993203Z",
     "start_time": "2024-08-23T16:23:49.976220Z"
    }
   },
   "cell_type": "code",
   "source": "type(recommend_db)",
   "id": "d236d1f6cfdd5fd5",
   "outputs": [
    {
     "data": {
      "text/plain": [
       "langchain_community.vectorstores.chroma.Chroma"
      ]
     },
     "execution_count": 6,
     "metadata": {},
     "output_type": "execute_result"
    }
   ],
   "execution_count": 6
  },
  {
   "metadata": {},
   "cell_type": "code",
   "outputs": [],
   "execution_count": null,
   "source": "",
   "id": "5bd993e4a8a2bdc0"
  },
  {
   "metadata": {},
   "cell_type": "markdown",
   "source": "<h1> Content based <h1>",
   "id": "78769d6875b8c4ee"
  },
  {
   "metadata": {},
   "cell_type": "markdown",
   "source": "Devo dividere tutti i libri già letti dall'utente selezionato, capire il genere e consigliarne altri simili.",
   "id": "8830d1cf7476c530"
  },
  {
   "metadata": {
    "ExecuteTime": {
     "end_time": "2024-08-26T18:20:26.913025Z",
     "start_time": "2024-08-26T18:20:26.909238Z"
    }
   },
   "cell_type": "code",
   "source": [
    "query = \"page_content=title:The Five Love Languages: The Secret to Love that Lasts, authors:['Gary Chapman'], categories:['Family & Relationships'], review/score:5.0,title:The Happiest Baby on the Block: The New Way to Calm Crying and Help Your Newborn Baby Sleep Longer, authors:['Harvey Karp'], categories:['FAMILY & RELATIONSHIPS'], review/score:5.0\"\n",
    "query2= \"title:The Five Love Languages: The Secret to Love that Lasts, authors:['Gary Chapman'], categories:['Family & Relationships']\"\n",
    "query3 = \"title:The Church of Christ: A Biblical Ecclesiology for Today, description:In The Church of Christ: A Biblical Ecclesiology for Today, respected biblical scholar Everett Ferguson presents a genuine biblical theology of the church. By systematically examining the New Testament's teaching on the existence, meaning, and purpose of the church, providing responsible coverage of the traditional topics in ecclesiology, and carefully grounding ecclesiology in the person and work of Christ, Ferguson unveils a comprehensive model of the church that is both biblically centered and relevant to a world on the verge of the twenty-first century., authors:['Everett Ferguson'], categories:['Religion'], ratingsCount:5.0\"\n",
    "\n",
    "query4= '''['[(\\'Dream Brother: The Lives and Music of Jeff and Tim Buckley\\', \"When Jeff Buckley drowned at the age of thirty in 1997, he not only left behind a legacy of brilliant music -- he brought back haunting memories of his father, \\'60s troubadour Tim Buckley, a gifted musician who barely knew his son and who himself died at twenty-eight. Both father and son made...\", \"[\\'David Browne\\']\", \"[\\'Music\\']\", \\'3.0\\')]']'''\n",
    "\n"
   ],
   "id": "36cf13bcdb60e0af",
   "outputs": [],
   "execution_count": 13
  },
  {
   "metadata": {
    "ExecuteTime": {
     "end_time": "2024-08-26T18:20:47.598002Z",
     "start_time": "2024-08-26T18:20:46.402994Z"
    }
   },
   "cell_type": "code",
   "source": [
    "#1 Metodo\n",
    "docs = recommend_db.similarity_search(query4, k=5)\n",
    "docs\n",
    "#Non ha senso questo risultato."
   ],
   "id": "9150cba360a2bfa2",
   "outputs": [
    {
     "name": "stderr",
     "output_type": "stream",
     "text": [
      "OllamaEmbeddings: 100%|██████████| 1/1 [00:01<00:00,  1.12s/it]\n"
     ]
    },
    {
     "data": {
      "text/plain": [
       "[Document(metadata={'user_id': 74}, page_content=\"title:A Rip in Heaven: A Memoir of Murder And Its Aftermath, description:The acclaimed author of American Dirt reveals the devastating effects of a shocking tragedy in this landmark true crime book—the first ever to look intimately at the experiences of both the victims and their families. A Rip in Heaven is Jeanine Cummins’ story of a night in April, 1991, when her two cousins Julie and Robin Kerry, and her brother, Tom, were assaulted on the Old Chain of Rocks Bridge, which spans the Mississippi River just outside of St. Louis. When, after a harrowing ordeal, Tom managed to escape the attackers and flag down help, he thought the nightmare would soon be over. He couldn’t have been more wrong. Tom, his sister Jeanine, and their entire family were just at the beginning of a horrific odyssey through the aftermath of a violent crime, a world of shocking betrayal, endless heartbreak, and utter disillusionment. It was a trial by fire from which no family member would emerge unscathed., authors:['Jeanine Cummins'], categories:['True Crime'], ratingsCount:20.0\"),\n",
       " Document(metadata={'user_id': 38}, page_content=\"title:Chances Are, description:One beautiful September day, three sixty-six-year-old men convene on Martha's Vineyard, friends ever since meeting in college in the 1960s. They couldn't have been more different then, or even today - Lincoln's a commercial real estate broker, Teddy a tiny-press publisher and Mickey an ageing musician. But each man holds his own secrets, in addition to the monumental mystery that none of them has ever stopped puzzling over since 1971: the disappearance of their friend Jacy. Now, decades later, the distant past interrupts the present as the truth about what happened to Jacy finally emerges, forcing the men to reconsider everything they thought they knew about each other. Shot through with Russo's trademark comedy and humanity, Chances Are also introduces a new level of suspense and menace that will quicken the reader's heartbeat throughout this absorbing saga of how friendship's bonds are every bit as constricting and rewarding as those of family. For both longtime fans and lucky newcomers, Chances Are is a stunning demonstration of a highly-acclaimed author deepening and expanding his remarkable body of work., authors:['Richard Russo'], categories:['Fiction'], ratingsCount:36.0\"),\n",
       " Document(metadata={'user_id': 46}, page_content=\"title:Manson in His Own Words: The Shocking Confessions of 'The Most Dangerous Man Alive', description:Recounts the murders that sent Charles Manson to prison, describes his childhood and life of crime, and includes his feelings concerning his portrayal in the media, authors:['Charles Manson', 'Nuel Emmons'], categories:['Biography & Autobiography'], ratingsCount:5.0\"),\n",
       " Document(metadata={'user_id': 25}, page_content=\"title:Lifetimes: The Beautiful Way to Explain Death to Children, description:When the death of a relative, a friend, or a pet happens or is about to happen . . . how can we help a child to understand? Lifetimes is a moving book for children of all ages, even parents too. It lets us explain life and death in a sensitive, caring, beautiful way. Lifetimes tells us about beginnings. And about endings. And about living in between. With large, wonderful illustrations, it tells about plants. About animals. About people. It tells that dying is as much a part of living as being born. It helps us to remember. It helps us to understand. Lifetimes . . . a very special, very important book for you and your child. The book that explains—beautifully—that all living things have their own special Lifetimes., authors:['Bryan Mellonie'], categories:['Family & Relationships'], ratingsCount:5.0\"),\n",
       " Document(metadata={'user_id': 56}, page_content=\"title:Helter Skelter, description:THE BEST-SELLING TRUE CRIME BOOK IN HISTORY ______________________ The shocking true story of the Manson murders, revealed in this harrowing, often terrifying book. Helter Skelter won a Mystery Writers of America Edgar Award in 1975 for Best Fact Crime Book. On August 9th 1969, seven people were found shot, stabbed and bludgeoned to death in Los Angeles. America watched in fascinated horror as the killers were tried and convicted. But the real questions went unanswered. How did Manson make his 'family' kill for him? What made these young men and women kill again and again with no trace of remorse? Did the murders continue even after Manson's imprisonment? No matter how much you think you know about this case, this book will still shock you. For decades, this has been the definitive account of the Manson murders., authors:['Vincent Bugliosi', 'Curt Gentry'], categories:['True Crime'], ratingsCount:80.0\")]"
      ]
     },
     "execution_count": 14,
     "metadata": {},
     "output_type": "execute_result"
    }
   ],
   "execution_count": 14
  },
  {
   "metadata": {
    "ExecuteTime": {
     "end_time": "2024-08-25T21:33:37.601622Z",
     "start_time": "2024-08-25T21:33:37.598530Z"
    }
   },
   "cell_type": "code",
   "source": [
    "def find_similar_book(query, vectorstore, top_k=5):\n",
    "    \n",
    "    similar_docs = vectorstore.similarity_search_with_score(query, k=5)\n",
    "\n",
    "    return similar_docs"
   ],
   "id": "6e2e63a83e20520e",
   "outputs": [],
   "execution_count": 10
  },
  {
   "metadata": {
    "ExecuteTime": {
     "end_time": "2024-08-25T21:33:23.073714Z",
     "start_time": "2024-08-25T21:33:23.035093Z"
    }
   },
   "cell_type": "code",
   "source": "find_similar_book(query, recommend_db)",
   "id": "76168bb9060bacce",
   "outputs": [
    {
     "ename": "NameError",
     "evalue": "name 'query' is not defined",
     "output_type": "error",
     "traceback": [
      "\u001B[0;31m---------------------------------------------------------------------------\u001B[0m",
      "\u001B[0;31mNameError\u001B[0m                                 Traceback (most recent call last)",
      "Cell \u001B[0;32mIn[6], line 1\u001B[0m\n\u001B[0;32m----> 1\u001B[0m find_similar_book(\u001B[43mquery\u001B[49m, recommend_db)\n",
      "\u001B[0;31mNameError\u001B[0m: name 'query' is not defined"
     ]
    }
   ],
   "execution_count": 6
  },
  {
   "metadata": {},
   "cell_type": "code",
   "outputs": [],
   "execution_count": null,
   "source": "",
   "id": "b7117c380c6c66f2"
  }
 ],
 "metadata": {
  "kernelspec": {
   "display_name": "Python 3",
   "language": "python",
   "name": "python3"
  },
  "language_info": {
   "codemirror_mode": {
    "name": "ipython",
    "version": 2
   },
   "file_extension": ".py",
   "mimetype": "text/x-python",
   "name": "python",
   "nbconvert_exporter": "python",
   "pygments_lexer": "ipython2",
   "version": "2.7.6"
  }
 },
 "nbformat": 4,
 "nbformat_minor": 5
}
