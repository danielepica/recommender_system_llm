{
 "cells": [
  {
   "cell_type": "code",
   "id": "initial_id",
   "metadata": {
    "collapsed": true,
    "ExecuteTime": {
     "end_time": "2024-08-23T16:01:58.953763Z",
     "start_time": "2024-08-23T16:01:58.267576Z"
    }
   },
   "source": [
    "import pandas as pd\n",
    "import os"
   ],
   "outputs": [],
   "execution_count": 1
  },
  {
   "metadata": {
    "ExecuteTime": {
     "end_time": "2024-08-23T16:02:35.544306Z",
     "start_time": "2024-08-23T16:02:35.400250Z"
    }
   },
   "cell_type": "code",
   "source": [
    "df = pd.read_csv('/Users/danielepica/Documents/GitHub/recommender_system_llm/src/books_recommendation.csv')\n",
    "df = df[:100]"
   ],
   "id": "176b9357e736cb7e",
   "outputs": [],
   "execution_count": 3
  },
  {
   "metadata": {
    "ExecuteTime": {
     "end_time": "2024-08-23T16:02:38.525657Z",
     "start_time": "2024-08-23T16:02:38.509536Z"
    }
   },
   "cell_type": "code",
   "source": "df.head()",
   "id": "8d0c1201eff16fb5",
   "outputs": [
    {
     "data": {
      "text/plain": [
       "                                          books_info\n",
       "0  title:The Church of Christ: A Biblical Ecclesi...\n",
       "1  title:No place to cry: The hurt and healing of...\n",
       "2  title:Night World: Daughters Of Darkness, desc...\n",
       "3  title:The Rabbi's Cat, description:Gaining the...\n",
       "4  title:From Potter's Field, description:The six..."
      ],
      "text/html": [
       "<div>\n",
       "<style scoped>\n",
       "    .dataframe tbody tr th:only-of-type {\n",
       "        vertical-align: middle;\n",
       "    }\n",
       "\n",
       "    .dataframe tbody tr th {\n",
       "        vertical-align: top;\n",
       "    }\n",
       "\n",
       "    .dataframe thead th {\n",
       "        text-align: right;\n",
       "    }\n",
       "</style>\n",
       "<table border=\"1\" class=\"dataframe\">\n",
       "  <thead>\n",
       "    <tr style=\"text-align: right;\">\n",
       "      <th></th>\n",
       "      <th>books_info</th>\n",
       "    </tr>\n",
       "  </thead>\n",
       "  <tbody>\n",
       "    <tr>\n",
       "      <th>0</th>\n",
       "      <td>title:The Church of Christ: A Biblical Ecclesi...</td>\n",
       "    </tr>\n",
       "    <tr>\n",
       "      <th>1</th>\n",
       "      <td>title:No place to cry: The hurt and healing of...</td>\n",
       "    </tr>\n",
       "    <tr>\n",
       "      <th>2</th>\n",
       "      <td>title:Night World: Daughters Of Darkness, desc...</td>\n",
       "    </tr>\n",
       "    <tr>\n",
       "      <th>3</th>\n",
       "      <td>title:The Rabbi's Cat, description:Gaining the...</td>\n",
       "    </tr>\n",
       "    <tr>\n",
       "      <th>4</th>\n",
       "      <td>title:From Potter's Field, description:The six...</td>\n",
       "    </tr>\n",
       "  </tbody>\n",
       "</table>\n",
       "</div>"
      ]
     },
     "execution_count": 4,
     "metadata": {},
     "output_type": "execute_result"
    }
   ],
   "execution_count": 4
  },
  {
   "metadata": {
    "ExecuteTime": {
     "end_time": "2024-08-23T16:07:14.929957Z",
     "start_time": "2024-08-23T16:07:05.345317Z"
    }
   },
   "cell_type": "code",
   "source": [
    "#!pip install chromadb langchain\n",
    "from langchain.embeddings import OllamaEmbeddings\n",
    "from langchain.llms import Ollama\n",
    "from langchain.vectorstores import Chroma\n",
    "import os\n",
    "\n",
    "embeddings = OllamaEmbeddings(model='mxbai-embed-large', show_progress=True)\n",
    "llm = Ollama(model='llama3')\n",
    "\n",
    "#create a new Chroma vector store (index)\n",
    "persist_directory = 'db_persist'\n",
    "#Check if the directory already exists\n",
    "if os.path.exists(persist_directory):\n",
    "    #Remove the directory and its contents\n",
    "    import shutil\n",
    "    shutil.rmtree(persist_directory)\n",
    "\n",
    "recommend_db = Chroma(embedding_function=embeddings, persist_directory=persist_directory)\n",
    "\n",
    "# Crea embeddings riga per riga e salva in Chroma\n",
    "for idx, row in df.iterrows():\n",
    "    # Estrarre l'informazione combinata\n",
    "    document_text = row['books_info']\n",
    "   \n",
    "    # Aggiungere il documento alla base di dati vettoriale Chroma\n",
    "    recommend_db.add_texts(texts=[document_text], metadatas=[{'user_id': idx}])\n",
    "\n",
    "# Persistenza dei dati\n",
    "recommend_db.persist() #NON è PIù NECESSARIO\n"
   ],
   "id": "76548940e288eaf5",
   "outputs": [
    {
     "name": "stderr",
     "output_type": "stream",
     "text": [
      "OllamaEmbeddings: 100%|██████████| 1/1 [00:01<00:00,  1.42s/it]\n",
      "OllamaEmbeddings: 100%|██████████| 1/1 [00:00<00:00, 18.29it/s]\n",
      "OllamaEmbeddings: 100%|██████████| 1/1 [00:00<00:00, 18.27it/s]\n",
      "OllamaEmbeddings: 100%|██████████| 1/1 [00:00<00:00, 18.79it/s]\n",
      "OllamaEmbeddings: 100%|██████████| 1/1 [00:00<00:00,  7.83it/s]\n",
      "OllamaEmbeddings: 100%|██████████| 1/1 [00:00<00:00,  7.91it/s]\n",
      "OllamaEmbeddings: 100%|██████████| 1/1 [00:00<00:00, 31.84it/s]\n",
      "OllamaEmbeddings: 100%|██████████| 1/1 [00:00<00:00, 11.40it/s]\n",
      "OllamaEmbeddings: 100%|██████████| 1/1 [00:00<00:00, 29.52it/s]\n",
      "OllamaEmbeddings: 100%|██████████| 1/1 [00:00<00:00,  5.18it/s]\n",
      "OllamaEmbeddings: 100%|██████████| 1/1 [00:00<00:00, 14.03it/s]\n",
      "OllamaEmbeddings: 100%|██████████| 1/1 [00:00<00:00, 13.60it/s]\n",
      "OllamaEmbeddings: 100%|██████████| 1/1 [00:00<00:00,  9.63it/s]\n",
      "OllamaEmbeddings: 100%|██████████| 1/1 [00:00<00:00, 26.43it/s]\n",
      "OllamaEmbeddings: 100%|██████████| 1/1 [00:00<00:00, 31.68it/s]\n",
      "OllamaEmbeddings: 100%|██████████| 1/1 [00:00<00:00, 11.22it/s]\n",
      "OllamaEmbeddings: 100%|██████████| 1/1 [00:00<00:00, 28.51it/s]\n",
      "OllamaEmbeddings: 100%|██████████| 1/1 [00:00<00:00, 13.66it/s]\n",
      "OllamaEmbeddings: 100%|██████████| 1/1 [00:00<00:00, 16.88it/s]\n",
      "OllamaEmbeddings: 100%|██████████| 1/1 [00:00<00:00, 26.80it/s]\n",
      "OllamaEmbeddings: 100%|██████████| 1/1 [00:00<00:00, 13.18it/s]\n",
      "OllamaEmbeddings: 100%|██████████| 1/1 [00:00<00:00, 12.62it/s]\n",
      "OllamaEmbeddings: 100%|██████████| 1/1 [00:00<00:00, 20.86it/s]\n",
      "OllamaEmbeddings: 100%|██████████| 1/1 [00:00<00:00, 21.20it/s]\n",
      "OllamaEmbeddings: 100%|██████████| 1/1 [00:00<00:00,  6.96it/s]\n",
      "OllamaEmbeddings: 100%|██████████| 1/1 [00:00<00:00, 11.35it/s]\n",
      "OllamaEmbeddings: 100%|██████████| 1/1 [00:00<00:00, 22.42it/s]\n",
      "OllamaEmbeddings: 100%|██████████| 1/1 [00:00<00:00, 23.36it/s]\n",
      "OllamaEmbeddings: 100%|██████████| 1/1 [00:00<00:00, 13.91it/s]\n",
      "OllamaEmbeddings: 100%|██████████| 1/1 [00:00<00:00, 10.45it/s]\n",
      "OllamaEmbeddings: 100%|██████████| 1/1 [00:00<00:00,  9.41it/s]\n",
      "OllamaEmbeddings: 100%|██████████| 1/1 [00:00<00:00, 25.64it/s]\n",
      "OllamaEmbeddings: 100%|██████████| 1/1 [00:00<00:00, 35.89it/s]\n",
      "OllamaEmbeddings: 100%|██████████| 1/1 [00:00<00:00,  7.66it/s]\n",
      "OllamaEmbeddings: 100%|██████████| 1/1 [00:00<00:00, 24.89it/s]\n",
      "OllamaEmbeddings: 100%|██████████| 1/1 [00:00<00:00, 12.17it/s]\n",
      "OllamaEmbeddings: 100%|██████████| 1/1 [00:00<00:00, 30.09it/s]\n",
      "OllamaEmbeddings: 100%|██████████| 1/1 [00:00<00:00, 12.33it/s]\n",
      "OllamaEmbeddings: 100%|██████████| 1/1 [00:00<00:00,  9.82it/s]\n",
      "OllamaEmbeddings: 100%|██████████| 1/1 [00:00<00:00, 25.59it/s]\n",
      "OllamaEmbeddings: 100%|██████████| 1/1 [00:00<00:00, 33.37it/s]\n",
      "OllamaEmbeddings: 100%|██████████| 1/1 [00:00<00:00, 33.48it/s]\n",
      "OllamaEmbeddings: 100%|██████████| 1/1 [00:00<00:00, 30.49it/s]\n",
      "OllamaEmbeddings: 100%|██████████| 1/1 [00:00<00:00, 36.83it/s]\n",
      "OllamaEmbeddings: 100%|██████████| 1/1 [00:00<00:00, 14.48it/s]\n",
      "OllamaEmbeddings: 100%|██████████| 1/1 [00:00<00:00,  9.50it/s]\n",
      "OllamaEmbeddings: 100%|██████████| 1/1 [00:00<00:00, 25.29it/s]\n",
      "OllamaEmbeddings: 100%|██████████| 1/1 [00:00<00:00, 26.28it/s]\n",
      "OllamaEmbeddings: 100%|██████████| 1/1 [00:00<00:00,  8.49it/s]\n",
      "OllamaEmbeddings: 100%|██████████| 1/1 [00:00<00:00,  6.29it/s]\n",
      "OllamaEmbeddings: 100%|██████████| 1/1 [00:00<00:00,  6.84it/s]\n",
      "OllamaEmbeddings: 100%|██████████| 1/1 [00:00<00:00, 20.77it/s]\n",
      "OllamaEmbeddings: 100%|██████████| 1/1 [00:00<00:00, 12.53it/s]\n",
      "OllamaEmbeddings: 100%|██████████| 1/1 [00:00<00:00,  6.76it/s]\n",
      "OllamaEmbeddings: 100%|██████████| 1/1 [00:00<00:00, 14.96it/s]\n",
      "OllamaEmbeddings: 100%|██████████| 1/1 [00:00<00:00, 25.18it/s]\n",
      "OllamaEmbeddings: 100%|██████████| 1/1 [00:00<00:00, 10.95it/s]\n",
      "OllamaEmbeddings: 100%|██████████| 1/1 [00:00<00:00, 17.07it/s]\n",
      "OllamaEmbeddings: 100%|██████████| 1/1 [00:00<00:00,  9.47it/s]\n",
      "OllamaEmbeddings: 100%|██████████| 1/1 [00:00<00:00, 14.69it/s]\n",
      "OllamaEmbeddings: 100%|██████████| 1/1 [00:00<00:00, 10.53it/s]\n",
      "OllamaEmbeddings: 100%|██████████| 1/1 [00:00<00:00, 25.74it/s]\n",
      "OllamaEmbeddings: 100%|██████████| 1/1 [00:00<00:00,  8.22it/s]\n",
      "OllamaEmbeddings: 100%|██████████| 1/1 [00:00<00:00, 11.19it/s]\n",
      "OllamaEmbeddings: 100%|██████████| 1/1 [00:00<00:00, 17.21it/s]\n",
      "OllamaEmbeddings: 100%|██████████| 1/1 [00:00<00:00,  4.92it/s]\n",
      "OllamaEmbeddings: 100%|██████████| 1/1 [00:00<00:00, 14.96it/s]\n",
      "OllamaEmbeddings: 100%|██████████| 1/1 [00:00<00:00, 10.49it/s]\n",
      "OllamaEmbeddings: 100%|██████████| 1/1 [00:00<00:00,  8.58it/s]\n",
      "OllamaEmbeddings: 100%|██████████| 1/1 [00:00<00:00, 25.01it/s]\n",
      "OllamaEmbeddings: 100%|██████████| 1/1 [00:00<00:00, 17.44it/s]\n",
      "OllamaEmbeddings: 100%|██████████| 1/1 [00:00<00:00, 12.98it/s]\n",
      "OllamaEmbeddings: 100%|██████████| 1/1 [00:00<00:00, 13.22it/s]\n",
      "OllamaEmbeddings: 100%|██████████| 1/1 [00:00<00:00,  8.40it/s]\n",
      "OllamaEmbeddings: 100%|██████████| 1/1 [00:00<00:00, 11.08it/s]\n",
      "OllamaEmbeddings: 100%|██████████| 1/1 [00:00<00:00, 11.74it/s]\n",
      "OllamaEmbeddings: 100%|██████████| 1/1 [00:00<00:00, 21.60it/s]\n",
      "OllamaEmbeddings: 100%|██████████| 1/1 [00:00<00:00, 17.43it/s]\n",
      "OllamaEmbeddings: 100%|██████████| 1/1 [00:00<00:00, 16.83it/s]\n",
      "OllamaEmbeddings: 100%|██████████| 1/1 [00:00<00:00, 31.68it/s]\n",
      "OllamaEmbeddings: 100%|██████████| 1/1 [00:00<00:00, 30.28it/s]\n",
      "OllamaEmbeddings: 100%|██████████| 1/1 [00:00<00:00,  7.28it/s]\n",
      "OllamaEmbeddings: 100%|██████████| 1/1 [00:00<00:00,  7.83it/s]\n",
      "OllamaEmbeddings: 100%|██████████| 1/1 [00:00<00:00,  8.49it/s]\n",
      "OllamaEmbeddings: 100%|██████████| 1/1 [00:00<00:00, 20.19it/s]\n",
      "OllamaEmbeddings: 100%|██████████| 1/1 [00:00<00:00, 25.75it/s]\n",
      "OllamaEmbeddings: 100%|██████████| 1/1 [00:00<00:00, 29.00it/s]\n",
      "OllamaEmbeddings: 100%|██████████| 1/1 [00:00<00:00, 11.56it/s]\n",
      "OllamaEmbeddings: 100%|██████████| 1/1 [00:00<00:00, 25.60it/s]\n",
      "OllamaEmbeddings: 100%|██████████| 1/1 [00:00<00:00,  9.73it/s]\n",
      "OllamaEmbeddings: 100%|██████████| 1/1 [00:00<00:00, 26.84it/s]\n",
      "OllamaEmbeddings: 100%|██████████| 1/1 [00:00<00:00, 20.33it/s]\n",
      "OllamaEmbeddings: 100%|██████████| 1/1 [00:00<00:00, 27.22it/s]\n",
      "OllamaEmbeddings: 100%|██████████| 1/1 [00:00<00:00, 14.39it/s]\n",
      "OllamaEmbeddings: 100%|██████████| 1/1 [00:00<00:00, 34.32it/s]\n",
      "OllamaEmbeddings: 100%|██████████| 1/1 [00:00<00:00,  6.55it/s]\n",
      "OllamaEmbeddings: 100%|██████████| 1/1 [00:00<00:00, 19.91it/s]\n",
      "OllamaEmbeddings: 100%|██████████| 1/1 [00:00<00:00, 16.58it/s]\n",
      "OllamaEmbeddings: 100%|██████████| 1/1 [00:00<00:00, 24.35it/s]\n",
      "OllamaEmbeddings: 100%|██████████| 1/1 [00:00<00:00, 20.36it/s]\n",
      "/opt/anaconda3/envs/LangChain/lib/python3.8/site-packages/langchain_core/_api/deprecation.py:141: LangChainDeprecationWarning: Since Chroma 0.4.x the manual persistence method is no longer supported as docs are automatically persisted.\n",
      "  warn_deprecated(\n"
     ]
    }
   ],
   "execution_count": 5
  },
  {
   "metadata": {
    "ExecuteTime": {
     "end_time": "2024-08-23T16:37:51.723685Z",
     "start_time": "2024-08-23T16:37:51.628872Z"
    }
   },
   "cell_type": "code",
   "source": [
    "#1 Metodo\n",
    "query = \"If i liked Economics in one lesson, What other books like it could you suggest to me?\"\n",
    "docs = recommend_db.similarity_search(query, k=5)\n",
    "docs"
   ],
   "id": "7a5eff569ee83cb4",
   "outputs": [
    {
     "name": "stderr",
     "output_type": "stream",
     "text": [
      "OllamaEmbeddings: 100%|██████████| 1/1 [00:00<00:00, 11.53it/s]\n"
     ]
    },
    {
     "data": {
      "text/plain": [
       "[Document(metadata={'user_id': 5}, page_content=\"title:Economics in one lesson, description:With over a million copies sold, Economics in One Lesson is an essential guide to the basics of economic theory. A fundamental influence on modern libertarianism, Hazlitt defends capitalism and the free market from economic myths that persist to this day. Considered among the leading economic thinkers of the “Austrian School,” which includes Carl Menger, Ludwig von Mises, Friedrich (F.A.) Hayek, and others, Henry Hazlitt (1894-1993), was a libertarian philosopher, an economist, and a journalist. He was the founding vice-president of the Foundation for Economic Education and an early editor of The Freeman magazine, an influential libertarian publication. Hazlitt wrote Economics in One Lesson, his seminal work, in 1946. Concise and instructive, it is also deceptively prescient and far-reaching in its efforts to dissemble economic fallacies that are so prevalent they have almost become a new orthodoxy. Economic commentators across the political spectrum have credited Hazlitt with foreseeing the collapse of the global economy which occurred more than 50 years after the initial publication of Economics in One Lesson. Hazlitt’s focus on non-governmental solutions, strong — and strongly reasoned — anti-deficit position, and general emphasis on free markets, economic liberty of individuals, and the dangers of government intervention make Economics in One Lesson every bit as relevant and valuable today as it has been since publication., authors:['Henry Hazlitt'], categories:['Business & Economics'], ratingsCount:18.0\"),\n",
       " Document(metadata={'user_id': 58}, page_content=\"title:Multiple Choice & Free-Response Questions in Preparation for the AP Calculus (AB) Examination / Student's Solutions Manual: Eighth Edition, description:Reader, your life is full of choices. Some will bring you joy and others will bring you heartache. Will you choose to cheat (in life, the examination that follows) or will you choose to copy? Will you fall in love? If so, will you remember her name and the number of freckles on her back? Will you marry, divorce, annul? Will you leave your run-down neighbourhood, your long-suffering country and your family? Will you honour your dead, those you loved and those you didn't? Will you have a child, will you regret it? Will you tell them you regret it? Will you, when all's said and done, deserve a kick in the balls? Will you find, here, in this slender book, fictions that entertain and puzzle you? Fictions that reflect yourself back to you? Will you find yourself? Relax, concentrate, dispel any anxious thoughts. Let the world around you settle and fade. Are you ready? Now turn over your papers, and begin., authors:['Alejandro Zambra'], categories:['Fiction'], ratingsCount:5.0\"),\n",
       " Document(metadata={'user_id': 98}, page_content=\"title:The 2 1/2 Pillars of Wisdom (The Von Igelfeld Trilogy), description:Welcome to the extraordinary world of Professor Dr. Moritz-Maria von Igelfeld, an unnaturally tall and memorable character whose sublime insouciance is a blend of the cultivated pomposity of Frasier Crane and Inspector Clouseau’s hapless gaucherie. The complete exploits of this unlikely adventurer are delightfully captured in The 21⁄2 Pillars of Wisdom., authors:['Alexander McCall Smith'], categories:['Fiction'], ratingsCount:4.0\"),\n",
       " Document(metadata={'user_id': 54}, page_content=\"title:Vindication, description:Mary Wollstonecraft’s visionary treatise, originally published in 1792, was the first book to present women’s rights as an issue of universal human rights. Ideal for coursework and classroom study, this comprehensive edition of Wollstonecraft’s heartfelt feminist argument includes illuminating essays by leading scholars that highlight the author’s significant contributions to modern political philosophy, making a powerful case for her as one of the most substantive political thinkers of the Enlightenment era. No other scholarly work to date has examined as closely both the ideological moorings and the enduring legacy of Wollstonecraft’s groundbreaking and courageous discourse., authors:['Mary Wollstonecraft'], categories:['Philosophy'], ratingsCount:4.0\"),\n",
       " Document(metadata={'user_id': 59}, page_content=\"title:BIRDS BEASTS AND RELATIVES., description:The follow up to My Family and Other Animals and the second book in The Corfu Trilogy, the beloved books that inspired ITV's television series The Durrells. Just before the Second World War the Durrell family decamped to the glorious, sun-soaked island of Corfu where the youngest of the four children, ten-year-old Gerald, discovered his passion for animals: toads and tortoises, bats and butterflies, scorpions and octopuses. Through glorious silver-green olive groves and across brilliant-white beaches Gerry pursued his obsession . . . causing hilarity and mayhem in his ever-tolerant family., authors:['Gerald Durrell'], categories:nan, ratingsCount:21.0\")]"
      ]
     },
     "execution_count": 8,
     "metadata": {},
     "output_type": "execute_result"
    }
   ],
   "execution_count": 8
  },
  {
   "metadata": {},
   "cell_type": "code",
   "outputs": [],
   "execution_count": null,
   "source": [
    "from langchain.chains.retrieval_qa.base import RetrievalQA\n",
    "\n",
    "#2 Metodo\n",
    "qa = RetrievalQA.from_chain_type(llm=llm, chain_type = \"stuff\", retriever = recommend_db.as_retriever(), return_source_documents=True, verbose=True)"
   ],
   "id": "afb89900ba5ccc7"
  },
  {
   "metadata": {},
   "cell_type": "code",
   "outputs": [],
   "execution_count": null,
   "source": [
    "query = \"I'm looking for an drama book. What could you suggest to me?\"\n",
    "result = qa({\"query\": query})\n",
    "result['result']"
   ],
   "id": "481a8d6104cefa2f"
  },
  {
   "metadata": {
    "ExecuteTime": {
     "end_time": "2024-08-23T16:23:49.993203Z",
     "start_time": "2024-08-23T16:23:49.976220Z"
    }
   },
   "cell_type": "code",
   "source": "type(recommend_db)",
   "id": "d236d1f6cfdd5fd5",
   "outputs": [
    {
     "data": {
      "text/plain": [
       "langchain_community.vectorstores.chroma.Chroma"
      ]
     },
     "execution_count": 6,
     "metadata": {},
     "output_type": "execute_result"
    }
   ],
   "execution_count": 6
  },
  {
   "metadata": {},
   "cell_type": "code",
   "outputs": [],
   "execution_count": null,
   "source": "",
   "id": "5bd993e4a8a2bdc0"
  },
  {
   "metadata": {},
   "cell_type": "markdown",
   "source": "<h1> Content based <h1>",
   "id": "78769d6875b8c4ee"
  },
  {
   "metadata": {},
   "cell_type": "markdown",
   "source": "Devo dividere tutti i libri già letti dall'utente selezionato, capire il genere e consigliarne altri simili.",
   "id": "8830d1cf7476c530"
  },
  {
   "metadata": {
    "ExecuteTime": {
     "end_time": "2024-08-25T08:25:00.144230Z",
     "start_time": "2024-08-25T08:25:00.135178Z"
    }
   },
   "cell_type": "code",
   "source": [
    "query = \"page_content=title:The Five Love Languages: The Secret to Love that Lasts, authors:['Gary Chapman'], categories:['Family & Relationships'], review/score:5.0,title:The Happiest Baby on the Block: The New Way to Calm Crying and Help Your Newborn Baby Sleep Longer, authors:['Harvey Karp'], categories:['FAMILY & RELATIONSHIPS'], review/score:5.0\"\n",
    "query2= \"what is a book more similar to this: title:The Five Love Languages: The Secret to Love that Lasts, authors:['Gary Chapman'], categories:['Family & Relationships']\"\n",
    "query3 = \"what is a book more similar to this: title:The Church of Christ: A Biblical Ecclesiology for Today, description:In The Church of Christ: A Biblical Ecclesiology for Today, respected biblical scholar Everett Ferguson presents a genuine biblical theology of the church. By systematically examining the New Testament's teaching on the existence, meaning, and purpose of the church, providing responsible coverage of the traditional topics in ecclesiology, and carefully grounding ecclesiology in the person and work of Christ, Ferguson unveils a comprehensive model of the church that is both biblically centered and relevant to a world on the verge of the twenty-first century., authors:['Everett Ferguson'], categories:['Religion'], ratingsCount:5.0\"\n",
    "\n",
    "query4= \"title:The Five Love Languages: The Secret to Love that Lasts, description:Over 20 million copies sold! A perennial New York Times bestseller for over a decade! Falling in love is easy. Staying in love—that’s the challenge. How can you keep your relationship fresh and growing amid the demands, conflicts, and just plain boredom of everyday life? In the #1 New York Times international bestseller The 5 Love Languages, you’ll discover the secret that has transformed millions of relationships worldwide. Whether your relationship is flourishing or failing, Dr. Gary Chapman’s proven approach to showing and receiving love will help you experience deeper and richer levels of intimacy with your partner—starting today. The 5 Love Languages is as practical as it is insightful. Updated to reflect the complexities of relationships today, this new edition reveals intrinsic truths and applies relevant, actionable wisdom in ways that work. Includes the Couple's Personal Profile assessment so you can discover your love language and that of your loved one., authors:['Gary Chapman'], categories:['Family & Relationships'], ratingsCount:195.0\"\n",
    "\n",
    "\n"
   ],
   "id": "36cf13bcdb60e0af",
   "outputs": [],
   "execution_count": 28
  },
  {
   "metadata": {
    "ExecuteTime": {
     "end_time": "2024-08-25T08:25:03.659232Z",
     "start_time": "2024-08-25T08:25:03.656652Z"
    }
   },
   "cell_type": "code",
   "source": [
    "def find_similar_book(query, vectorstore, top_k=5):\n",
    "    \n",
    "    similar_docs = vectorstore.max_marginal_relevance_search(query, k=10)\n",
    "\n",
    "    return similar_docs"
   ],
   "id": "6e2e63a83e20520e",
   "outputs": [],
   "execution_count": 29
  },
  {
   "metadata": {
    "ExecuteTime": {
     "end_time": "2024-08-25T08:25:05.459280Z",
     "start_time": "2024-08-25T08:25:05.233016Z"
    }
   },
   "cell_type": "code",
   "source": "find_similar_book(query2, recommend_db)",
   "id": "76168bb9060bacce",
   "outputs": [
    {
     "name": "stderr",
     "output_type": "stream",
     "text": [
      "OllamaEmbeddings: 100%|██████████| 1/1 [00:00<00:00,  4.78it/s]\n"
     ]
    },
    {
     "data": {
      "text/plain": [
       "[Document(metadata={'user_id': 62}, page_content=\"title:Surrendered, description:A New York Times bestseller, this controversial guide to improving your marriage has transformed thousands of relationships, bringing women romance, harmony, and the intimacy they crave. Like millions of women, Laura Doyle wanted her marriage to be better. But when she tried to get her husband to be more romantic, helpful, and ambitious, he withdrew—and she was lonely and exhausted from controlling everything. Desperate to be in love with her man again, she decided to stop telling him what to do and how to do it. When Doyle surrendered control, something magical happened. The union she had always dreamed of appeared. The man who had wooed her was back. The underlying principle of The Surrendered Wife is simple: The control women wield at work and with children must be left at the front door of any marriage. Laura Doyle’s model for matrimony shows women how they can both express their needs and have them met while also respecting their husband’s choices. When they do, they revitalize intimacy. Compassionate and practical, The Surrendered Wife is a step-by-step guide that teaches women how to: · Give up unnecessary control and responsibility · Resist the temptation to criticize, belittle, or dismiss their husbands · Trust their husbands in every aspect of marriage—from sexual to financial · And more. The Surrendered Wife will show you how to transform a lonely marriage into a passionate union., authors:['Laura Doyle'], categories:['Family & Relationships'], ratingsCount:5.0\"),\n",
       " Document(metadata={'user_id': 9}, page_content='title:Plain And Simple - A Woman\\'s Journey To The Amish, description:\"I had an obsession with the Amish. Plan and simple. Objectively it made no sense. I, who worked hard at being special, fell in love with a people who valued being ordinary.\" So begins Sue Bender\\'s story, the captivating and inspiring true story of a harried urban Californian moved by the beauty of a display of quilts to seek out and live with the Amish. Discovering lives shaped by unfamiliar yet comforting ideas about time, work, and community, Bender is gently coaxed to consider, \"Is there another way to lead a good life?\" Her journey begins in a New York men\\'s clothing store. There she is spellbound by the vibrant colors and stunning geometric simplicity of the Amish quilts \"spoke directly to me,\" writes Bender. Somehow, \"they went straight to my heart.\" Heeding a persistent inner voice, Bender searches for Amish families willing to allow her to visit and share in there daily lives. Plain and Simple vividly recounts sojourns with two Amish families, visits during which Bender enters a world without television, telephone, electric light, or refrigerators; a world where clutter and hurry are replaced with inner quiet and calm ritual; a world where a sunny kitchen \"glows\" and \"no distinction was made between the sacred and the everyday.\" In nine interrelated chapters--as simple and elegant as a classic nine-patch Amish quilt--Bender shares the quiet power she found reflected in lives of joyful simplicity, humanity, and clarity. The fast-paced, opinionated, often frazzled Bender returns home and reworks her \"crazy-quilt\" life, integrating the soul-soothing qualities she has observed in the Amish, and celebrating the patterns in the Amish, and celebrating the patterns formed by the distinctive \"patches\" of her own life. Charmingly illustrated and refreshingly spare, Plain and Simple speaks to the seeker in each of us., authors:[\\'Sue Bender\\'], categories:[\\'Religion\\'], ratingsCount:11.0'),\n",
       " Document(metadata={'user_id': 25}, page_content=\"title:Lifetimes: The Beautiful Way to Explain Death to Children, description:When the death of a relative, a friend, or a pet happens or is about to happen . . . how can we help a child to understand? Lifetimes is a moving book for children of all ages, even parents too. It lets us explain life and death in a sensitive, caring, beautiful way. Lifetimes tells us about beginnings. And about endings. And about living in between. With large, wonderful illustrations, it tells about plants. About animals. About people. It tells that dying is as much a part of living as being born. It helps us to remember. It helps us to understand. Lifetimes . . . a very special, very important book for you and your child. The book that explains—beautifully—that all living things have their own special Lifetimes., authors:['Bryan Mellonie'], categories:['Family & Relationships'], ratingsCount:5.0\"),\n",
       " Document(metadata={'user_id': 68}, page_content=\"title:The Gluten-Free Bible: The Thoroughly Indispensable Guide to Negotiating Life without Wheat, description:The definitive guide to the gluten-free lifestyle, completely revised and updated for the 2.2 million Americans with celiac disease According to a landmark 2003 National Institutes of Health study, 2.2 million Americans suffer from celiac disease, an allergy to the protein gluten found in wheat. Since this book was first published in 1995 (as Against the Grain), Jax Peters Lowell has been helping celiacs follow a gluten-free diet with creativity, resourcefulness, and humor. This edition includes chapters covering - the latest research into celiac disease, and myths that have been debunked - how to eat out happily, including a short course in restaurant assertiveness training - how to eat in happily, including a discussion of online and mail order suppliers and negotiating the supermarket as a celiac - dozens of delicious new recipes - drugs, cosmetics, and other products tested for celiac-safety - a thoroughly updated resource section Tens of thousands of celiacs have already enhanced their lives with Lowell's authoritative, witty, and practical guide. The Gluten-free Bible promises to bring relief to the new gluten-intolerant generation., authors:['Jax Peters Lowell'], categories:['Health & Fitness'], ratingsCount:7.0\"),\n",
       " Document(metadata={'user_id': 59}, page_content=\"title:BIRDS BEASTS AND RELATIVES., description:The follow up to My Family and Other Animals and the second book in The Corfu Trilogy, the beloved books that inspired ITV's television series The Durrells. Just before the Second World War the Durrell family decamped to the glorious, sun-soaked island of Corfu where the youngest of the four children, ten-year-old Gerald, discovered his passion for animals: toads and tortoises, bats and butterflies, scorpions and octopuses. Through glorious silver-green olive groves and across brilliant-white beaches Gerry pursued his obsession . . . causing hilarity and mayhem in his ever-tolerant family., authors:['Gerald Durrell'], categories:nan, ratingsCount:21.0\"),\n",
       " Document(metadata={'user_id': 97}, page_content=\"title:Spiritual Disciplines for the Christian Life (Pilgrimage Growth Guide), description:Drawn from a rich heritage, Spiritual Disciplines for the Christian Life will guide you through a carefully selected array of disciplines, including: Scripture reading Prayer Worship Scripture meditation Evangelism Serving Stewardship of time and money Scripture application Fasting Silence and solitude Journaling Learning By illustrating why the disciplines are important, showing how each one will help you grow in godliness, and offering practical suggestions for cultivating them, Spiritual Disciplines for the Christian Life will provide you with a refreshing opportunity to become more like Christ and grow in character and maturity., authors:['Donald S. Whitney'], categories:['Religion'], ratingsCount:35.0\"),\n",
       " Document(metadata={'user_id': 38}, page_content=\"title:Chances Are, description:One beautiful September day, three sixty-six-year-old men convene on Martha's Vineyard, friends ever since meeting in college in the 1960s. They couldn't have been more different then, or even today - Lincoln's a commercial real estate broker, Teddy a tiny-press publisher and Mickey an ageing musician. But each man holds his own secrets, in addition to the monumental mystery that none of them has ever stopped puzzling over since 1971: the disappearance of their friend Jacy. Now, decades later, the distant past interrupts the present as the truth about what happened to Jacy finally emerges, forcing the men to reconsider everything they thought they knew about each other. Shot through with Russo's trademark comedy and humanity, Chances Are also introduces a new level of suspense and menace that will quicken the reader's heartbeat throughout this absorbing saga of how friendship's bonds are every bit as constricting and rewarding as those of family. For both longtime fans and lucky newcomers, Chances Are is a stunning demonstration of a highly-acclaimed author deepening and expanding his remarkable body of work., authors:['Richard Russo'], categories:['Fiction'], ratingsCount:36.0\"),\n",
       " Document(metadata={'user_id': 58}, page_content=\"title:Multiple Choice & Free-Response Questions in Preparation for the AP Calculus (AB) Examination / Student's Solutions Manual: Eighth Edition, description:Reader, your life is full of choices. Some will bring you joy and others will bring you heartache. Will you choose to cheat (in life, the examination that follows) or will you choose to copy? Will you fall in love? If so, will you remember her name and the number of freckles on her back? Will you marry, divorce, annul? Will you leave your run-down neighbourhood, your long-suffering country and your family? Will you honour your dead, those you loved and those you didn't? Will you have a child, will you regret it? Will you tell them you regret it? Will you, when all's said and done, deserve a kick in the balls? Will you find, here, in this slender book, fictions that entertain and puzzle you? Fictions that reflect yourself back to you? Will you find yourself? Relax, concentrate, dispel any anxious thoughts. Let the world around you settle and fade. Are you ready? Now turn over your papers, and begin., authors:['Alejandro Zambra'], categories:['Fiction'], ratingsCount:5.0\"),\n",
       " Document(metadata={'user_id': 65}, page_content=\"title:Science of the Gods, description:A paradigm-shifting blend of science, religion, and philosophy for agnostic, spiritual-but-not-religious, and scientifically minded readers Many people are fed up with the way traditional religion alienates them: too easily it can perpetuate conflict, vilify science, and undermine reason. Nancy Abrams, a philosopher of science, lawyer, and lifelong atheist, is among them. And yet, when she turned to the recovery community to face a personal struggle, she found that imagining a higher power gave her a new freedom. Intellectually, this was quite surprising. Meanwhile her husband, famed astrophysicist Joel Primack, was helping create a new theory of the universe based on dark matter and dark energy, and Abrams was collaborating with him on two books that put the new scientific picture into a social and political context. She wondered, “Could anything actually exist in this strange new universe that is worthy of the name ‘God?’” In A God That Could Be Real, Abrams explores a radically new way of thinking about God. She dismantles several common assumptions about God and shows why an omniscient, omnipotent God that created the universe and plans what happens is incompatible with science—but that this doesn’t preclude a God that can comfort and empower us. Moving away from traditional arguments for God, Abrams finds something worthy of the name “God” in the new science of emergence: just as a complex ant hill emerges from the collective behavior of individually clueless ants, and just as the global economy emerges from the interactions of billions of individuals’ choices, God, she argues, is an “emergent phenomenon” that arises from the staggering complexity of humanity’s collective aspirations and is in dialogue with every individual. This God did not create the universe—it created the meaning of the universe. It’s not universal—it’s planetary. It can’t change the world, but it helps us change the world. A God that could be real, Abrams shows us, is what humanity needs to inspire us to collectively cooperate to protect our warming planet and create a long-term civilization., authors:['Nancy Ellen Abrams'], categories:['Religion'], ratingsCount:13.0\"),\n",
       " Document(metadata={'user_id': 16}, page_content=\"title:Life with father, description:nan, authors:['Clarence Day'], categories:nan, ratingsCount:5.0\")]"
      ]
     },
     "execution_count": 30,
     "metadata": {},
     "output_type": "execute_result"
    }
   ],
   "execution_count": 30
  },
  {
   "metadata": {},
   "cell_type": "code",
   "outputs": [],
   "execution_count": null,
   "source": "",
   "id": "b7117c380c6c66f2"
  }
 ],
 "metadata": {
  "kernelspec": {
   "display_name": "Python 3",
   "language": "python",
   "name": "python3"
  },
  "language_info": {
   "codemirror_mode": {
    "name": "ipython",
    "version": 2
   },
   "file_extension": ".py",
   "mimetype": "text/x-python",
   "name": "python",
   "nbconvert_exporter": "python",
   "pygments_lexer": "ipython2",
   "version": "2.7.6"
  }
 },
 "nbformat": 4,
 "nbformat_minor": 5
}
