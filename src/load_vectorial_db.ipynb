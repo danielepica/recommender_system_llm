{
 "cells": [
  {
   "cell_type": "code",
   "id": "initial_id",
   "metadata": {
    "collapsed": true,
    "ExecuteTime": {
     "end_time": "2024-08-23T16:01:58.953763Z",
     "start_time": "2024-08-23T16:01:58.267576Z"
    }
   },
   "source": [
    "import pandas as pd\n",
    "import os"
   ],
   "outputs": [],
   "execution_count": 1
  },
  {
   "metadata": {
    "ExecuteTime": {
     "end_time": "2024-08-23T16:02:35.544306Z",
     "start_time": "2024-08-23T16:02:35.400250Z"
    }
   },
   "cell_type": "code",
   "source": [
    "df = pd.read_csv('/Users/danielepica/Documents/GitHub/recommender_system_llm/src/books_recommendation.csv')\n",
    "df = df[:100]"
   ],
   "id": "176b9357e736cb7e",
   "outputs": [],
   "execution_count": 3
  },
  {
   "metadata": {
    "ExecuteTime": {
     "end_time": "2024-08-23T16:02:38.525657Z",
     "start_time": "2024-08-23T16:02:38.509536Z"
    }
   },
   "cell_type": "code",
   "source": "df.head()",
   "id": "8d0c1201eff16fb5",
   "outputs": [
    {
     "data": {
      "text/plain": [
       "                                          books_info\n",
       "0  title:The Church of Christ: A Biblical Ecclesi...\n",
       "1  title:No place to cry: The hurt and healing of...\n",
       "2  title:Night World: Daughters Of Darkness, desc...\n",
       "3  title:The Rabbi's Cat, description:Gaining the...\n",
       "4  title:From Potter's Field, description:The six..."
      ],
      "text/html": [
       "<div>\n",
       "<style scoped>\n",
       "    .dataframe tbody tr th:only-of-type {\n",
       "        vertical-align: middle;\n",
       "    }\n",
       "\n",
       "    .dataframe tbody tr th {\n",
       "        vertical-align: top;\n",
       "    }\n",
       "\n",
       "    .dataframe thead th {\n",
       "        text-align: right;\n",
       "    }\n",
       "</style>\n",
       "<table border=\"1\" class=\"dataframe\">\n",
       "  <thead>\n",
       "    <tr style=\"text-align: right;\">\n",
       "      <th></th>\n",
       "      <th>books_info</th>\n",
       "    </tr>\n",
       "  </thead>\n",
       "  <tbody>\n",
       "    <tr>\n",
       "      <th>0</th>\n",
       "      <td>title:The Church of Christ: A Biblical Ecclesi...</td>\n",
       "    </tr>\n",
       "    <tr>\n",
       "      <th>1</th>\n",
       "      <td>title:No place to cry: The hurt and healing of...</td>\n",
       "    </tr>\n",
       "    <tr>\n",
       "      <th>2</th>\n",
       "      <td>title:Night World: Daughters Of Darkness, desc...</td>\n",
       "    </tr>\n",
       "    <tr>\n",
       "      <th>3</th>\n",
       "      <td>title:The Rabbi's Cat, description:Gaining the...</td>\n",
       "    </tr>\n",
       "    <tr>\n",
       "      <th>4</th>\n",
       "      <td>title:From Potter's Field, description:The six...</td>\n",
       "    </tr>\n",
       "  </tbody>\n",
       "</table>\n",
       "</div>"
      ]
     },
     "execution_count": 4,
     "metadata": {},
     "output_type": "execute_result"
    }
   ],
   "execution_count": 4
  },
  {
   "metadata": {
    "ExecuteTime": {
     "end_time": "2024-08-23T16:07:14.929957Z",
     "start_time": "2024-08-23T16:07:05.345317Z"
    }
   },
   "cell_type": "code",
   "source": [
    "#!pip install chromadb langchain\n",
    "from langchain.embeddings import OllamaEmbeddings\n",
    "from langchain.llms import Ollama\n",
    "from langchain.vectorstores import Chroma\n",
    "import os\n",
    "\n",
    "embeddings = OllamaEmbeddings(model='mxbai-embed-large', show_progress=True)\n",
    "llm = Ollama(model='llama3')\n",
    "\n",
    "#create a new Chroma vector store (index)\n",
    "persist_directory = 'db_persist'\n",
    "#Check if the directory already exists\n",
    "if os.path.exists(persist_directory):\n",
    "    #Remove the directory and its contents\n",
    "    import shutil\n",
    "    shutil.rmtree(persist_directory)\n",
    "\n",
    "recommend_db = Chroma(embedding_function=embeddings, persist_directory=persist_directory)\n",
    "\n",
    "# Crea embeddings riga per riga e salva in Chroma\n",
    "for idx, row in df.iterrows():\n",
    "    # Estrarre l'informazione combinata\n",
    "    document_text = row['books_info']\n",
    "   \n",
    "    # Aggiungere il documento alla base di dati vettoriale Chroma\n",
    "    recommend_db.add_texts(texts=[document_text], metadatas=[{'user_id': idx}])\n",
    "\n",
    "# Persistenza dei dati\n",
    "recommend_db.persist() #NON è PIù NECESSARIO\n"
   ],
   "id": "76548940e288eaf5",
   "outputs": [
    {
     "name": "stderr",
     "output_type": "stream",
     "text": [
      "OllamaEmbeddings: 100%|██████████| 1/1 [00:01<00:00,  1.42s/it]\n",
      "OllamaEmbeddings: 100%|██████████| 1/1 [00:00<00:00, 18.29it/s]\n",
      "OllamaEmbeddings: 100%|██████████| 1/1 [00:00<00:00, 18.27it/s]\n",
      "OllamaEmbeddings: 100%|██████████| 1/1 [00:00<00:00, 18.79it/s]\n",
      "OllamaEmbeddings: 100%|██████████| 1/1 [00:00<00:00,  7.83it/s]\n",
      "OllamaEmbeddings: 100%|██████████| 1/1 [00:00<00:00,  7.91it/s]\n",
      "OllamaEmbeddings: 100%|██████████| 1/1 [00:00<00:00, 31.84it/s]\n",
      "OllamaEmbeddings: 100%|██████████| 1/1 [00:00<00:00, 11.40it/s]\n",
      "OllamaEmbeddings: 100%|██████████| 1/1 [00:00<00:00, 29.52it/s]\n",
      "OllamaEmbeddings: 100%|██████████| 1/1 [00:00<00:00,  5.18it/s]\n",
      "OllamaEmbeddings: 100%|██████████| 1/1 [00:00<00:00, 14.03it/s]\n",
      "OllamaEmbeddings: 100%|██████████| 1/1 [00:00<00:00, 13.60it/s]\n",
      "OllamaEmbeddings: 100%|██████████| 1/1 [00:00<00:00,  9.63it/s]\n",
      "OllamaEmbeddings: 100%|██████████| 1/1 [00:00<00:00, 26.43it/s]\n",
      "OllamaEmbeddings: 100%|██████████| 1/1 [00:00<00:00, 31.68it/s]\n",
      "OllamaEmbeddings: 100%|██████████| 1/1 [00:00<00:00, 11.22it/s]\n",
      "OllamaEmbeddings: 100%|██████████| 1/1 [00:00<00:00, 28.51it/s]\n",
      "OllamaEmbeddings: 100%|██████████| 1/1 [00:00<00:00, 13.66it/s]\n",
      "OllamaEmbeddings: 100%|██████████| 1/1 [00:00<00:00, 16.88it/s]\n",
      "OllamaEmbeddings: 100%|██████████| 1/1 [00:00<00:00, 26.80it/s]\n",
      "OllamaEmbeddings: 100%|██████████| 1/1 [00:00<00:00, 13.18it/s]\n",
      "OllamaEmbeddings: 100%|██████████| 1/1 [00:00<00:00, 12.62it/s]\n",
      "OllamaEmbeddings: 100%|██████████| 1/1 [00:00<00:00, 20.86it/s]\n",
      "OllamaEmbeddings: 100%|██████████| 1/1 [00:00<00:00, 21.20it/s]\n",
      "OllamaEmbeddings: 100%|██████████| 1/1 [00:00<00:00,  6.96it/s]\n",
      "OllamaEmbeddings: 100%|██████████| 1/1 [00:00<00:00, 11.35it/s]\n",
      "OllamaEmbeddings: 100%|██████████| 1/1 [00:00<00:00, 22.42it/s]\n",
      "OllamaEmbeddings: 100%|██████████| 1/1 [00:00<00:00, 23.36it/s]\n",
      "OllamaEmbeddings: 100%|██████████| 1/1 [00:00<00:00, 13.91it/s]\n",
      "OllamaEmbeddings: 100%|██████████| 1/1 [00:00<00:00, 10.45it/s]\n",
      "OllamaEmbeddings: 100%|██████████| 1/1 [00:00<00:00,  9.41it/s]\n",
      "OllamaEmbeddings: 100%|██████████| 1/1 [00:00<00:00, 25.64it/s]\n",
      "OllamaEmbeddings: 100%|██████████| 1/1 [00:00<00:00, 35.89it/s]\n",
      "OllamaEmbeddings: 100%|██████████| 1/1 [00:00<00:00,  7.66it/s]\n",
      "OllamaEmbeddings: 100%|██████████| 1/1 [00:00<00:00, 24.89it/s]\n",
      "OllamaEmbeddings: 100%|██████████| 1/1 [00:00<00:00, 12.17it/s]\n",
      "OllamaEmbeddings: 100%|██████████| 1/1 [00:00<00:00, 30.09it/s]\n",
      "OllamaEmbeddings: 100%|██████████| 1/1 [00:00<00:00, 12.33it/s]\n",
      "OllamaEmbeddings: 100%|██████████| 1/1 [00:00<00:00,  9.82it/s]\n",
      "OllamaEmbeddings: 100%|██████████| 1/1 [00:00<00:00, 25.59it/s]\n",
      "OllamaEmbeddings: 100%|██████████| 1/1 [00:00<00:00, 33.37it/s]\n",
      "OllamaEmbeddings: 100%|██████████| 1/1 [00:00<00:00, 33.48it/s]\n",
      "OllamaEmbeddings: 100%|██████████| 1/1 [00:00<00:00, 30.49it/s]\n",
      "OllamaEmbeddings: 100%|██████████| 1/1 [00:00<00:00, 36.83it/s]\n",
      "OllamaEmbeddings: 100%|██████████| 1/1 [00:00<00:00, 14.48it/s]\n",
      "OllamaEmbeddings: 100%|██████████| 1/1 [00:00<00:00,  9.50it/s]\n",
      "OllamaEmbeddings: 100%|██████████| 1/1 [00:00<00:00, 25.29it/s]\n",
      "OllamaEmbeddings: 100%|██████████| 1/1 [00:00<00:00, 26.28it/s]\n",
      "OllamaEmbeddings: 100%|██████████| 1/1 [00:00<00:00,  8.49it/s]\n",
      "OllamaEmbeddings: 100%|██████████| 1/1 [00:00<00:00,  6.29it/s]\n",
      "OllamaEmbeddings: 100%|██████████| 1/1 [00:00<00:00,  6.84it/s]\n",
      "OllamaEmbeddings: 100%|██████████| 1/1 [00:00<00:00, 20.77it/s]\n",
      "OllamaEmbeddings: 100%|██████████| 1/1 [00:00<00:00, 12.53it/s]\n",
      "OllamaEmbeddings: 100%|██████████| 1/1 [00:00<00:00,  6.76it/s]\n",
      "OllamaEmbeddings: 100%|██████████| 1/1 [00:00<00:00, 14.96it/s]\n",
      "OllamaEmbeddings: 100%|██████████| 1/1 [00:00<00:00, 25.18it/s]\n",
      "OllamaEmbeddings: 100%|██████████| 1/1 [00:00<00:00, 10.95it/s]\n",
      "OllamaEmbeddings: 100%|██████████| 1/1 [00:00<00:00, 17.07it/s]\n",
      "OllamaEmbeddings: 100%|██████████| 1/1 [00:00<00:00,  9.47it/s]\n",
      "OllamaEmbeddings: 100%|██████████| 1/1 [00:00<00:00, 14.69it/s]\n",
      "OllamaEmbeddings: 100%|██████████| 1/1 [00:00<00:00, 10.53it/s]\n",
      "OllamaEmbeddings: 100%|██████████| 1/1 [00:00<00:00, 25.74it/s]\n",
      "OllamaEmbeddings: 100%|██████████| 1/1 [00:00<00:00,  8.22it/s]\n",
      "OllamaEmbeddings: 100%|██████████| 1/1 [00:00<00:00, 11.19it/s]\n",
      "OllamaEmbeddings: 100%|██████████| 1/1 [00:00<00:00, 17.21it/s]\n",
      "OllamaEmbeddings: 100%|██████████| 1/1 [00:00<00:00,  4.92it/s]\n",
      "OllamaEmbeddings: 100%|██████████| 1/1 [00:00<00:00, 14.96it/s]\n",
      "OllamaEmbeddings: 100%|██████████| 1/1 [00:00<00:00, 10.49it/s]\n",
      "OllamaEmbeddings: 100%|██████████| 1/1 [00:00<00:00,  8.58it/s]\n",
      "OllamaEmbeddings: 100%|██████████| 1/1 [00:00<00:00, 25.01it/s]\n",
      "OllamaEmbeddings: 100%|██████████| 1/1 [00:00<00:00, 17.44it/s]\n",
      "OllamaEmbeddings: 100%|██████████| 1/1 [00:00<00:00, 12.98it/s]\n",
      "OllamaEmbeddings: 100%|██████████| 1/1 [00:00<00:00, 13.22it/s]\n",
      "OllamaEmbeddings: 100%|██████████| 1/1 [00:00<00:00,  8.40it/s]\n",
      "OllamaEmbeddings: 100%|██████████| 1/1 [00:00<00:00, 11.08it/s]\n",
      "OllamaEmbeddings: 100%|██████████| 1/1 [00:00<00:00, 11.74it/s]\n",
      "OllamaEmbeddings: 100%|██████████| 1/1 [00:00<00:00, 21.60it/s]\n",
      "OllamaEmbeddings: 100%|██████████| 1/1 [00:00<00:00, 17.43it/s]\n",
      "OllamaEmbeddings: 100%|██████████| 1/1 [00:00<00:00, 16.83it/s]\n",
      "OllamaEmbeddings: 100%|██████████| 1/1 [00:00<00:00, 31.68it/s]\n",
      "OllamaEmbeddings: 100%|██████████| 1/1 [00:00<00:00, 30.28it/s]\n",
      "OllamaEmbeddings: 100%|██████████| 1/1 [00:00<00:00,  7.28it/s]\n",
      "OllamaEmbeddings: 100%|██████████| 1/1 [00:00<00:00,  7.83it/s]\n",
      "OllamaEmbeddings: 100%|██████████| 1/1 [00:00<00:00,  8.49it/s]\n",
      "OllamaEmbeddings: 100%|██████████| 1/1 [00:00<00:00, 20.19it/s]\n",
      "OllamaEmbeddings: 100%|██████████| 1/1 [00:00<00:00, 25.75it/s]\n",
      "OllamaEmbeddings: 100%|██████████| 1/1 [00:00<00:00, 29.00it/s]\n",
      "OllamaEmbeddings: 100%|██████████| 1/1 [00:00<00:00, 11.56it/s]\n",
      "OllamaEmbeddings: 100%|██████████| 1/1 [00:00<00:00, 25.60it/s]\n",
      "OllamaEmbeddings: 100%|██████████| 1/1 [00:00<00:00,  9.73it/s]\n",
      "OllamaEmbeddings: 100%|██████████| 1/1 [00:00<00:00, 26.84it/s]\n",
      "OllamaEmbeddings: 100%|██████████| 1/1 [00:00<00:00, 20.33it/s]\n",
      "OllamaEmbeddings: 100%|██████████| 1/1 [00:00<00:00, 27.22it/s]\n",
      "OllamaEmbeddings: 100%|██████████| 1/1 [00:00<00:00, 14.39it/s]\n",
      "OllamaEmbeddings: 100%|██████████| 1/1 [00:00<00:00, 34.32it/s]\n",
      "OllamaEmbeddings: 100%|██████████| 1/1 [00:00<00:00,  6.55it/s]\n",
      "OllamaEmbeddings: 100%|██████████| 1/1 [00:00<00:00, 19.91it/s]\n",
      "OllamaEmbeddings: 100%|██████████| 1/1 [00:00<00:00, 16.58it/s]\n",
      "OllamaEmbeddings: 100%|██████████| 1/1 [00:00<00:00, 24.35it/s]\n",
      "OllamaEmbeddings: 100%|██████████| 1/1 [00:00<00:00, 20.36it/s]\n",
      "/opt/anaconda3/envs/LangChain/lib/python3.8/site-packages/langchain_core/_api/deprecation.py:141: LangChainDeprecationWarning: Since Chroma 0.4.x the manual persistence method is no longer supported as docs are automatically persisted.\n",
      "  warn_deprecated(\n"
     ]
    }
   ],
   "execution_count": 5
  },
  {
   "metadata": {
    "ExecuteTime": {
     "end_time": "2024-08-23T16:37:51.723685Z",
     "start_time": "2024-08-23T16:37:51.628872Z"
    }
   },
   "cell_type": "code",
   "source": [
    "#1 Metodo\n",
    "query = \"If i liked Economics in one lesson, What other books like it could you suggest to me?\"\n",
    "docs = recommend_db.similarity_search(query, k=5)\n",
    "docs"
   ],
   "id": "7a5eff569ee83cb4",
   "outputs": [
    {
     "name": "stderr",
     "output_type": "stream",
     "text": [
      "OllamaEmbeddings: 100%|██████████| 1/1 [00:00<00:00, 11.53it/s]\n"
     ]
    },
    {
     "data": {
      "text/plain": [
       "[Document(metadata={'user_id': 5}, page_content=\"title:Economics in one lesson, description:With over a million copies sold, Economics in One Lesson is an essential guide to the basics of economic theory. A fundamental influence on modern libertarianism, Hazlitt defends capitalism and the free market from economic myths that persist to this day. Considered among the leading economic thinkers of the “Austrian School,” which includes Carl Menger, Ludwig von Mises, Friedrich (F.A.) Hayek, and others, Henry Hazlitt (1894-1993), was a libertarian philosopher, an economist, and a journalist. He was the founding vice-president of the Foundation for Economic Education and an early editor of The Freeman magazine, an influential libertarian publication. Hazlitt wrote Economics in One Lesson, his seminal work, in 1946. Concise and instructive, it is also deceptively prescient and far-reaching in its efforts to dissemble economic fallacies that are so prevalent they have almost become a new orthodoxy. Economic commentators across the political spectrum have credited Hazlitt with foreseeing the collapse of the global economy which occurred more than 50 years after the initial publication of Economics in One Lesson. Hazlitt’s focus on non-governmental solutions, strong — and strongly reasoned — anti-deficit position, and general emphasis on free markets, economic liberty of individuals, and the dangers of government intervention make Economics in One Lesson every bit as relevant and valuable today as it has been since publication., authors:['Henry Hazlitt'], categories:['Business & Economics'], ratingsCount:18.0\"),\n",
       " Document(metadata={'user_id': 58}, page_content=\"title:Multiple Choice & Free-Response Questions in Preparation for the AP Calculus (AB) Examination / Student's Solutions Manual: Eighth Edition, description:Reader, your life is full of choices. Some will bring you joy and others will bring you heartache. Will you choose to cheat (in life, the examination that follows) or will you choose to copy? Will you fall in love? If so, will you remember her name and the number of freckles on her back? Will you marry, divorce, annul? Will you leave your run-down neighbourhood, your long-suffering country and your family? Will you honour your dead, those you loved and those you didn't? Will you have a child, will you regret it? Will you tell them you regret it? Will you, when all's said and done, deserve a kick in the balls? Will you find, here, in this slender book, fictions that entertain and puzzle you? Fictions that reflect yourself back to you? Will you find yourself? Relax, concentrate, dispel any anxious thoughts. Let the world around you settle and fade. Are you ready? Now turn over your papers, and begin., authors:['Alejandro Zambra'], categories:['Fiction'], ratingsCount:5.0\"),\n",
       " Document(metadata={'user_id': 98}, page_content=\"title:The 2 1/2 Pillars of Wisdom (The Von Igelfeld Trilogy), description:Welcome to the extraordinary world of Professor Dr. Moritz-Maria von Igelfeld, an unnaturally tall and memorable character whose sublime insouciance is a blend of the cultivated pomposity of Frasier Crane and Inspector Clouseau’s hapless gaucherie. The complete exploits of this unlikely adventurer are delightfully captured in The 21⁄2 Pillars of Wisdom., authors:['Alexander McCall Smith'], categories:['Fiction'], ratingsCount:4.0\"),\n",
       " Document(metadata={'user_id': 54}, page_content=\"title:Vindication, description:Mary Wollstonecraft’s visionary treatise, originally published in 1792, was the first book to present women’s rights as an issue of universal human rights. Ideal for coursework and classroom study, this comprehensive edition of Wollstonecraft’s heartfelt feminist argument includes illuminating essays by leading scholars that highlight the author’s significant contributions to modern political philosophy, making a powerful case for her as one of the most substantive political thinkers of the Enlightenment era. No other scholarly work to date has examined as closely both the ideological moorings and the enduring legacy of Wollstonecraft’s groundbreaking and courageous discourse., authors:['Mary Wollstonecraft'], categories:['Philosophy'], ratingsCount:4.0\"),\n",
       " Document(metadata={'user_id': 59}, page_content=\"title:BIRDS BEASTS AND RELATIVES., description:The follow up to My Family and Other Animals and the second book in The Corfu Trilogy, the beloved books that inspired ITV's television series The Durrells. Just before the Second World War the Durrell family decamped to the glorious, sun-soaked island of Corfu where the youngest of the four children, ten-year-old Gerald, discovered his passion for animals: toads and tortoises, bats and butterflies, scorpions and octopuses. Through glorious silver-green olive groves and across brilliant-white beaches Gerry pursued his obsession . . . causing hilarity and mayhem in his ever-tolerant family., authors:['Gerald Durrell'], categories:nan, ratingsCount:21.0\")]"
      ]
     },
     "execution_count": 8,
     "metadata": {},
     "output_type": "execute_result"
    }
   ],
   "execution_count": 8
  },
  {
   "metadata": {},
   "cell_type": "code",
   "outputs": [],
   "execution_count": null,
   "source": [
    "from langchain.chains.retrieval_qa.base import RetrievalQA\n",
    "\n",
    "#2 Metodo\n",
    "qa = RetrievalQA.from_chain_type(llm=llm, chain_type = \"stuff\", retriever = recommend_db.as_retriever(), return_source_documents=True, verbose=True)"
   ],
   "id": "afb89900ba5ccc7"
  },
  {
   "metadata": {},
   "cell_type": "code",
   "outputs": [],
   "execution_count": null,
   "source": [
    "query = \"I'm looking for an drama book. What could you suggest to me?\"\n",
    "result = qa({\"query\": query})\n",
    "result['result']"
   ],
   "id": "481a8d6104cefa2f"
  },
  {
   "metadata": {
    "ExecuteTime": {
     "end_time": "2024-08-23T16:23:49.993203Z",
     "start_time": "2024-08-23T16:23:49.976220Z"
    }
   },
   "cell_type": "code",
   "source": "type(recommend_db)",
   "id": "d236d1f6cfdd5fd5",
   "outputs": [
    {
     "data": {
      "text/plain": [
       "langchain_community.vectorstores.chroma.Chroma"
      ]
     },
     "execution_count": 6,
     "metadata": {},
     "output_type": "execute_result"
    }
   ],
   "execution_count": 6
  },
  {
   "metadata": {},
   "cell_type": "code",
   "outputs": [],
   "execution_count": null,
   "source": "",
   "id": "5bd993e4a8a2bdc0"
  }
 ],
 "metadata": {
  "kernelspec": {
   "display_name": "Python 3",
   "language": "python",
   "name": "python3"
  },
  "language_info": {
   "codemirror_mode": {
    "name": "ipython",
    "version": 2
   },
   "file_extension": ".py",
   "mimetype": "text/x-python",
   "name": "python",
   "nbconvert_exporter": "python",
   "pygments_lexer": "ipython2",
   "version": "2.7.6"
  }
 },
 "nbformat": 4,
 "nbformat_minor": 5
}
