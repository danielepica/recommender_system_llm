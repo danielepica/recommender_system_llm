{
 "cells": [
  {
   "metadata": {},
   "cell_type": "markdown",
   "source": "",
   "id": "901bc6862917afb2"
  },
  {
   "cell_type": "code",
   "id": "initial_id",
   "metadata": {
    "collapsed": true,
    "ExecuteTime": {
     "end_time": "2024-08-25T08:07:43.910245Z",
     "start_time": "2024-08-25T08:07:43.881728Z"
    }
   },
   "source": [
    "import pandas as pd\n",
    "import os"
   ],
   "outputs": [],
   "execution_count": 18
  },
  {
   "metadata": {
    "ExecuteTime": {
     "end_time": "2024-08-25T08:07:47.892806Z",
     "start_time": "2024-08-25T08:07:47.858398Z"
    }
   },
   "cell_type": "code",
   "source": "df = pd.read_csv('/Users/danielepica/Documents/GitHub/recommender_system_llm/src/grouped_book_recommendation_100.csv')",
   "id": "176b9357e736cb7e",
   "outputs": [],
   "execution_count": 19
  },
  {
   "metadata": {
    "ExecuteTime": {
     "end_time": "2024-08-25T08:07:51.164325Z",
     "start_time": "2024-08-25T08:07:51.154986Z"
    }
   },
   "cell_type": "code",
   "source": "df.head()",
   "id": "8d0c1201eff16fb5",
   "outputs": [
    {
     "data": {
      "text/plain": [
       "          User_id                                         books_info\n",
       "0   ASXVN70L40AMR  title:Wuthering Heights (New Windmill), author...\n",
       "1   AOKVU6KSH4OB6  title:THE THREE FAT MEN A Novel For Children, ...\n",
       "2   A84YWOJ6K2CUP  title:Dream Brother: The Lives and Music of Je...\n",
       "3  A1P2BNZCJZ0IOJ  title:The Five Love Languages: The Secret to L...\n",
       "4  A3JC9FG56Z8GSO  title:A Gown of Spanish Lace (Women of the Wes..."
      ],
      "text/html": [
       "<div>\n",
       "<style scoped>\n",
       "    .dataframe tbody tr th:only-of-type {\n",
       "        vertical-align: middle;\n",
       "    }\n",
       "\n",
       "    .dataframe tbody tr th {\n",
       "        vertical-align: top;\n",
       "    }\n",
       "\n",
       "    .dataframe thead th {\n",
       "        text-align: right;\n",
       "    }\n",
       "</style>\n",
       "<table border=\"1\" class=\"dataframe\">\n",
       "  <thead>\n",
       "    <tr style=\"text-align: right;\">\n",
       "      <th></th>\n",
       "      <th>User_id</th>\n",
       "      <th>books_info</th>\n",
       "    </tr>\n",
       "  </thead>\n",
       "  <tbody>\n",
       "    <tr>\n",
       "      <th>0</th>\n",
       "      <td>ASXVN70L40AMR</td>\n",
       "      <td>title:Wuthering Heights (New Windmill), author...</td>\n",
       "    </tr>\n",
       "    <tr>\n",
       "      <th>1</th>\n",
       "      <td>AOKVU6KSH4OB6</td>\n",
       "      <td>title:THE THREE FAT MEN A Novel For Children, ...</td>\n",
       "    </tr>\n",
       "    <tr>\n",
       "      <th>2</th>\n",
       "      <td>A84YWOJ6K2CUP</td>\n",
       "      <td>title:Dream Brother: The Lives and Music of Je...</td>\n",
       "    </tr>\n",
       "    <tr>\n",
       "      <th>3</th>\n",
       "      <td>A1P2BNZCJZ0IOJ</td>\n",
       "      <td>title:The Five Love Languages: The Secret to L...</td>\n",
       "    </tr>\n",
       "    <tr>\n",
       "      <th>4</th>\n",
       "      <td>A3JC9FG56Z8GSO</td>\n",
       "      <td>title:A Gown of Spanish Lace (Women of the Wes...</td>\n",
       "    </tr>\n",
       "  </tbody>\n",
       "</table>\n",
       "</div>"
      ]
     },
     "execution_count": 20,
     "metadata": {},
     "output_type": "execute_result"
    }
   ],
   "execution_count": 20
  },
  {
   "metadata": {},
   "cell_type": "markdown",
   "source": [
    "Ogni riga del dataset (che rappresenta un utente) sarà trasformata in un embedding che rappresenta \n",
    "la sua lista di libri e recensioni. Questi embeddings saranno utilizzati per calcolare la somiglianza tra utenti."
   ],
   "id": "65dab2fe8ff791dc"
  },
  {
   "metadata": {
    "ExecuteTime": {
     "end_time": "2024-08-24T15:20:37.478437Z",
     "start_time": "2024-08-24T15:20:30.320725Z"
    }
   },
   "cell_type": "code",
   "source": [
    "import pandas as pd\n",
    "from langchain.vectorstores import Chroma\n",
    "from langchain.embeddings import OllamaEmbeddings\n",
    "import os\n",
    "\n",
    "\n",
    "# Inizializza il modello di embedding\n",
    "embeddings = OllamaEmbeddings(model='mxbai-embed-large', show_progress=True)\n",
    "\n",
    "# Inizializza Chroma\n",
    "persist_directory = 'db_user_based'\n",
    "if os.path.exists(persist_directory):\n",
    "    import shutil\n",
    "    shutil.rmtree(persist_directory)\n",
    "\n",
    "vectorstore = Chroma(embedding_function=embeddings, persist_directory=persist_directory)\n",
    "\n",
    "# Crea embeddings per ogni utente basato sul campo 'book_info'\n",
    "for idx, row in df.iterrows():\n",
    "    document_text = row['books_info']\n",
    "    user_id = row['User_id']\n",
    "    \n",
    "    # Aggiungi il documento alla base di dati vettoriale Chroma\n",
    "    vectorstore.add_texts(texts=[document_text], metadatas=[{'user_id': user_id}])\n",
    "\n",
    "# Persistenza dei dati\n",
    "vectorstore.persist() #potrei toglierlo non è più necessario\n"
   ],
   "id": "558623db85ab2f32",
   "outputs": [
    {
     "name": "stderr",
     "output_type": "stream",
     "text": [
      "OllamaEmbeddings: 100%|██████████| 1/1 [00:01<00:00,  1.43s/it]\n",
      "OllamaEmbeddings: 100%|██████████| 1/1 [00:00<00:00, 32.29it/s]\n",
      "OllamaEmbeddings: 100%|██████████| 1/1 [00:00<00:00, 29.49it/s]\n",
      "OllamaEmbeddings: 100%|██████████| 1/1 [00:00<00:00, 20.71it/s]\n",
      "OllamaEmbeddings: 100%|██████████| 1/1 [00:00<00:00, 32.92it/s]\n",
      "OllamaEmbeddings: 100%|██████████| 1/1 [00:00<00:00, 30.40it/s]\n",
      "OllamaEmbeddings: 100%|██████████| 1/1 [00:00<00:00,  9.85it/s]\n",
      "OllamaEmbeddings: 100%|██████████| 1/1 [00:00<00:00, 31.54it/s]\n",
      "OllamaEmbeddings: 100%|██████████| 1/1 [00:00<00:00, 30.47it/s]\n",
      "OllamaEmbeddings: 100%|██████████| 1/1 [00:00<00:00, 11.72it/s]\n",
      "OllamaEmbeddings: 100%|██████████| 1/1 [00:00<00:00, 32.04it/s]\n",
      "OllamaEmbeddings: 100%|██████████| 1/1 [00:00<00:00, 30.79it/s]\n",
      "OllamaEmbeddings: 100%|██████████| 1/1 [00:00<00:00, 15.99it/s]\n",
      "OllamaEmbeddings: 100%|██████████| 1/1 [00:00<00:00,  8.23it/s]\n",
      "OllamaEmbeddings: 100%|██████████| 1/1 [00:00<00:00,  6.34it/s]\n",
      "OllamaEmbeddings: 100%|██████████| 1/1 [00:00<00:00, 29.07it/s]\n",
      "OllamaEmbeddings: 100%|██████████| 1/1 [00:00<00:00, 28.10it/s]\n",
      "OllamaEmbeddings: 100%|██████████| 1/1 [00:00<00:00, 33.80it/s]\n",
      "OllamaEmbeddings: 100%|██████████| 1/1 [00:00<00:00, 20.38it/s]\n",
      "OllamaEmbeddings: 100%|██████████| 1/1 [00:00<00:00, 41.36it/s]\n",
      "OllamaEmbeddings: 100%|██████████| 1/1 [00:00<00:00, 19.65it/s]\n",
      "OllamaEmbeddings: 100%|██████████| 1/1 [00:00<00:00, 31.98it/s]\n",
      "OllamaEmbeddings: 100%|██████████| 1/1 [00:00<00:00,  7.28it/s]\n",
      "OllamaEmbeddings: 100%|██████████| 1/1 [00:00<00:00, 15.75it/s]\n",
      "OllamaEmbeddings: 100%|██████████| 1/1 [00:00<00:00, 17.56it/s]\n",
      "OllamaEmbeddings: 100%|██████████| 1/1 [00:00<00:00, 10.98it/s]\n",
      "OllamaEmbeddings: 100%|██████████| 1/1 [00:00<00:00, 18.85it/s]\n",
      "OllamaEmbeddings: 100%|██████████| 1/1 [00:00<00:00, 15.92it/s]\n",
      "OllamaEmbeddings: 100%|██████████| 1/1 [00:00<00:00, 22.33it/s]\n",
      "OllamaEmbeddings: 100%|██████████| 1/1 [00:00<00:00, 27.00it/s]\n",
      "OllamaEmbeddings: 100%|██████████| 1/1 [00:00<00:00, 24.98it/s]\n",
      "OllamaEmbeddings: 100%|██████████| 1/1 [00:00<00:00, 11.92it/s]\n",
      "OllamaEmbeddings: 100%|██████████| 1/1 [00:00<00:00, 21.56it/s]\n",
      "OllamaEmbeddings: 100%|██████████| 1/1 [00:00<00:00, 26.46it/s]\n",
      "OllamaEmbeddings: 100%|██████████| 1/1 [00:00<00:00, 26.99it/s]\n",
      "OllamaEmbeddings: 100%|██████████| 1/1 [00:00<00:00, 18.58it/s]\n",
      "OllamaEmbeddings: 100%|██████████| 1/1 [00:00<00:00, 24.85it/s]\n",
      "OllamaEmbeddings: 100%|██████████| 1/1 [00:00<00:00, 31.64it/s]\n",
      "OllamaEmbeddings: 100%|██████████| 1/1 [00:00<00:00, 25.55it/s]\n",
      "OllamaEmbeddings: 100%|██████████| 1/1 [00:00<00:00, 12.42it/s]\n",
      "OllamaEmbeddings: 100%|██████████| 1/1 [00:00<00:00, 26.21it/s]\n",
      "OllamaEmbeddings: 100%|██████████| 1/1 [00:00<00:00, 21.75it/s]\n",
      "OllamaEmbeddings: 100%|██████████| 1/1 [00:00<00:00, 32.25it/s]\n",
      "OllamaEmbeddings: 100%|██████████| 1/1 [00:00<00:00, 33.30it/s]\n",
      "OllamaEmbeddings: 100%|██████████| 1/1 [00:00<00:00, 25.43it/s]\n",
      "OllamaEmbeddings: 100%|██████████| 1/1 [00:00<00:00, 32.34it/s]\n",
      "OllamaEmbeddings: 100%|██████████| 1/1 [00:00<00:00, 26.79it/s]\n",
      "OllamaEmbeddings: 100%|██████████| 1/1 [00:00<00:00, 25.33it/s]\n",
      "OllamaEmbeddings: 100%|██████████| 1/1 [00:00<00:00, 33.30it/s]\n",
      "OllamaEmbeddings: 100%|██████████| 1/1 [00:00<00:00, 41.30it/s]\n",
      "OllamaEmbeddings: 100%|██████████| 1/1 [00:00<00:00, 32.63it/s]\n",
      "OllamaEmbeddings: 100%|██████████| 1/1 [00:00<00:00, 34.24it/s]\n",
      "OllamaEmbeddings: 100%|██████████| 1/1 [00:00<00:00, 19.89it/s]\n",
      "OllamaEmbeddings: 100%|██████████| 1/1 [00:00<00:00, 21.59it/s]\n",
      "OllamaEmbeddings: 100%|██████████| 1/1 [00:00<00:00, 33.36it/s]\n",
      "OllamaEmbeddings: 100%|██████████| 1/1 [00:00<00:00, 32.62it/s]\n",
      "OllamaEmbeddings: 100%|██████████| 1/1 [00:00<00:00, 31.83it/s]\n",
      "OllamaEmbeddings: 100%|██████████| 1/1 [00:00<00:00, 34.53it/s]\n",
      "OllamaEmbeddings: 100%|██████████| 1/1 [00:00<00:00, 27.58it/s]\n",
      "OllamaEmbeddings: 100%|██████████| 1/1 [00:00<00:00, 32.75it/s]\n",
      "OllamaEmbeddings: 100%|██████████| 1/1 [00:00<00:00, 34.90it/s]\n",
      "OllamaEmbeddings: 100%|██████████| 1/1 [00:00<00:00,  9.53it/s]\n",
      "OllamaEmbeddings: 100%|██████████| 1/1 [00:00<00:00, 32.51it/s]\n",
      "OllamaEmbeddings: 100%|██████████| 1/1 [00:00<00:00, 35.05it/s]\n",
      "OllamaEmbeddings: 100%|██████████| 1/1 [00:00<00:00, 30.54it/s]\n",
      "OllamaEmbeddings: 100%|██████████| 1/1 [00:00<00:00, 32.67it/s]\n",
      "OllamaEmbeddings: 100%|██████████| 1/1 [00:00<00:00, 33.54it/s]\n",
      "OllamaEmbeddings: 100%|██████████| 1/1 [00:00<00:00, 16.44it/s]\n",
      "OllamaEmbeddings: 100%|██████████| 1/1 [00:00<00:00, 29.42it/s]\n",
      "OllamaEmbeddings: 100%|██████████| 1/1 [00:00<00:00, 24.16it/s]\n",
      "OllamaEmbeddings: 100%|██████████| 1/1 [00:00<00:00, 34.87it/s]\n",
      "OllamaEmbeddings: 100%|██████████| 1/1 [00:00<00:00, 27.24it/s]\n",
      "OllamaEmbeddings: 100%|██████████| 1/1 [00:00<00:00, 33.89it/s]\n",
      "OllamaEmbeddings: 100%|██████████| 1/1 [00:00<00:00, 33.86it/s]\n",
      "OllamaEmbeddings: 100%|██████████| 1/1 [00:00<00:00, 33.17it/s]\n",
      "OllamaEmbeddings: 100%|██████████| 1/1 [00:00<00:00, 33.13it/s]\n",
      "OllamaEmbeddings: 100%|██████████| 1/1 [00:00<00:00,  7.62it/s]\n",
      "OllamaEmbeddings: 100%|██████████| 1/1 [00:00<00:00, 34.08it/s]\n",
      "OllamaEmbeddings: 100%|██████████| 1/1 [00:00<00:00, 31.17it/s]\n",
      "OllamaEmbeddings: 100%|██████████| 1/1 [00:00<00:00, 34.11it/s]\n",
      "OllamaEmbeddings: 100%|██████████| 1/1 [00:00<00:00, 32.22it/s]\n",
      "OllamaEmbeddings: 100%|██████████| 1/1 [00:00<00:00, 11.88it/s]\n",
      "OllamaEmbeddings: 100%|██████████| 1/1 [00:00<00:00, 32.93it/s]\n",
      "OllamaEmbeddings: 100%|██████████| 1/1 [00:00<00:00, 27.47it/s]\n",
      "OllamaEmbeddings: 100%|██████████| 1/1 [00:00<00:00, 33.64it/s]\n",
      "OllamaEmbeddings: 100%|██████████| 1/1 [00:00<00:00, 33.80it/s]\n",
      "OllamaEmbeddings: 100%|██████████| 1/1 [00:00<00:00, 16.69it/s]\n",
      "OllamaEmbeddings: 100%|██████████| 1/1 [00:00<00:00, 30.05it/s]\n",
      "OllamaEmbeddings: 100%|██████████| 1/1 [00:00<00:00, 29.66it/s]\n",
      "OllamaEmbeddings: 100%|██████████| 1/1 [00:00<00:00, 33.47it/s]\n",
      "OllamaEmbeddings: 100%|██████████| 1/1 [00:00<00:00, 33.23it/s]\n",
      "OllamaEmbeddings: 100%|██████████| 1/1 [00:00<00:00, 28.58it/s]\n",
      "OllamaEmbeddings: 100%|██████████| 1/1 [00:00<00:00, 33.03it/s]\n",
      "OllamaEmbeddings: 100%|██████████| 1/1 [00:00<00:00, 25.46it/s]\n",
      "OllamaEmbeddings: 100%|██████████| 1/1 [00:00<00:00, 24.95it/s]\n",
      "OllamaEmbeddings: 100%|██████████| 1/1 [00:00<00:00, 32.46it/s]\n",
      "OllamaEmbeddings: 100%|██████████| 1/1 [00:00<00:00, 35.23it/s]\n",
      "OllamaEmbeddings: 100%|██████████| 1/1 [00:00<00:00, 32.01it/s]\n",
      "OllamaEmbeddings: 100%|██████████| 1/1 [00:00<00:00,  9.22it/s]\n",
      "OllamaEmbeddings: 100%|██████████| 1/1 [00:00<00:00, 32.75it/s]\n",
      "/opt/anaconda3/envs/LangChain/lib/python3.8/site-packages/langchain_core/_api/deprecation.py:141: LangChainDeprecationWarning: Since Chroma 0.4.x the manual persistence method is no longer supported as docs are automatically persisted.\n",
      "  warn_deprecated(\n"
     ]
    }
   ],
   "execution_count": 4
  },
  {
   "metadata": {},
   "cell_type": "markdown",
   "source": "Ora che abbiamo creato e salvato gli embeddings, possiamo utilizzare il modello per trovare utenti simili e fare raccomandazioni.",
   "id": "37276ed252d8810f"
  },
  {
   "metadata": {
    "ExecuteTime": {
     "end_time": "2024-08-24T22:12:24.450231Z",
     "start_time": "2024-08-24T22:12:24.310561Z"
    }
   },
   "cell_type": "code",
   "source": [
    "def find_similar_users(user_id, query, vectorstore, top_k=5):\n",
    "    # Recupera i documenti/metadati per l'utente specifico\n",
    "    similar_docs = vectorstore.similarity_search_with_score(query, k=5)\n",
    "\n",
    "    # Filtra i documenti simili in base ai metadati\n",
    "    user_docs = [doc for doc in similar_docs if doc[0].metadata['user_id'] != user_id]\n",
    "\n",
    "    return user_docs\n",
    "    \n",
    "\n",
    "# Esempio di utilizzo\n",
    "user_id = \"A1P2BNZCJZ0IOJ\"\n",
    "query = \"page_content=title:The Five Love Languages: The Secret to Love that Lasts, authors:['Gary Chapman'], categories:['Family & Relationships'], review/score:5.0,title:The Happiest Baby on the Block: The New Way to Calm Crying and Help Your Newborn Baby Sleep Longer, authors:['Harvey Karp'], categories:['FAMILY & RELATIONSHIPS'], review/score:5.0\"\n",
    "\n",
    "similar_users = find_similar_users(user_id, query, vectorstore)\n",
    "\n",
    "for user in similar_users:\n",
    "    print(f\"User ID: {user[0].metadata['user_id']}, Similarity Score: {user[1]}\")\n",
    "    print(user[0].page_content)\n",
    "\n"
   ],
   "id": "679d41f5978bffb7",
   "outputs": [
    {
     "name": "stderr",
     "output_type": "stream",
     "text": [
      "OllamaEmbeddings: 100%|██████████| 1/1 [00:00<00:00,  9.30it/s]\n"
     ]
    },
    {
     "ename": "AttributeError",
     "evalue": "'tuple' object has no attribute 'metadata'",
     "output_type": "error",
     "traceback": [
      "\u001B[0;31m---------------------------------------------------------------------------\u001B[0m",
      "\u001B[0;31mAttributeError\u001B[0m                            Traceback (most recent call last)",
      "Cell \u001B[0;32mIn[14], line 15\u001B[0m\n\u001B[1;32m     12\u001B[0m user_id \u001B[38;5;241m=\u001B[39m \u001B[38;5;124m\"\u001B[39m\u001B[38;5;124mA1P2BNZCJZ0IOJ\u001B[39m\u001B[38;5;124m\"\u001B[39m\n\u001B[1;32m     13\u001B[0m query \u001B[38;5;241m=\u001B[39m \u001B[38;5;124m\"\u001B[39m\u001B[38;5;124mpage_content=title:The Five Love Languages: The Secret to Love that Lasts, authors:[\u001B[39m\u001B[38;5;124m'\u001B[39m\u001B[38;5;124mGary Chapman\u001B[39m\u001B[38;5;124m'\u001B[39m\u001B[38;5;124m], categories:[\u001B[39m\u001B[38;5;124m'\u001B[39m\u001B[38;5;124mFamily & Relationships\u001B[39m\u001B[38;5;124m'\u001B[39m\u001B[38;5;124m], review/score:5.0,title:The Happiest Baby on the Block: The New Way to Calm Crying and Help Your Newborn Baby Sleep Longer, authors:[\u001B[39m\u001B[38;5;124m'\u001B[39m\u001B[38;5;124mHarvey Karp\u001B[39m\u001B[38;5;124m'\u001B[39m\u001B[38;5;124m], categories:[\u001B[39m\u001B[38;5;124m'\u001B[39m\u001B[38;5;124mFAMILY & RELATIONSHIPS\u001B[39m\u001B[38;5;124m'\u001B[39m\u001B[38;5;124m], review/score:5.0\u001B[39m\u001B[38;5;124m\"\u001B[39m\n\u001B[0;32m---> 15\u001B[0m similar_users \u001B[38;5;241m=\u001B[39m \u001B[43mfind_similar_users\u001B[49m\u001B[43m(\u001B[49m\u001B[43muser_id\u001B[49m\u001B[43m,\u001B[49m\u001B[43m \u001B[49m\u001B[43mquery\u001B[49m\u001B[43m,\u001B[49m\u001B[43m \u001B[49m\u001B[43mvectorstore\u001B[49m\u001B[43m)\u001B[49m\n\u001B[1;32m     17\u001B[0m \u001B[38;5;28;01mfor\u001B[39;00m user \u001B[38;5;129;01min\u001B[39;00m similar_users:\n\u001B[1;32m     18\u001B[0m     \u001B[38;5;28mprint\u001B[39m(\u001B[38;5;124mf\u001B[39m\u001B[38;5;124m\"\u001B[39m\u001B[38;5;124mUser ID: \u001B[39m\u001B[38;5;132;01m{\u001B[39;00muser[\u001B[38;5;241m0\u001B[39m]\u001B[38;5;241m.\u001B[39mmetadata[\u001B[38;5;124m'\u001B[39m\u001B[38;5;124muser_id\u001B[39m\u001B[38;5;124m'\u001B[39m]\u001B[38;5;132;01m}\u001B[39;00m\u001B[38;5;124m, Similarity Score: \u001B[39m\u001B[38;5;132;01m{\u001B[39;00muser[\u001B[38;5;241m1\u001B[39m]\u001B[38;5;132;01m}\u001B[39;00m\u001B[38;5;124m\"\u001B[39m)\n",
      "Cell \u001B[0;32mIn[14], line 6\u001B[0m, in \u001B[0;36mfind_similar_users\u001B[0;34m(user_id, query, vectorstore, top_k)\u001B[0m\n\u001B[1;32m      3\u001B[0m similar_docs \u001B[38;5;241m=\u001B[39m vectorstore\u001B[38;5;241m.\u001B[39msimilarity_search_with_score(query, k\u001B[38;5;241m=\u001B[39m\u001B[38;5;241m5\u001B[39m)\n\u001B[1;32m      5\u001B[0m \u001B[38;5;66;03m# Filtra i documenti simili in base ai metadati\u001B[39;00m\n\u001B[0;32m----> 6\u001B[0m user_docs \u001B[38;5;241m=\u001B[39m [doc \u001B[38;5;28;01mfor\u001B[39;00m doc \u001B[38;5;129;01min\u001B[39;00m similar_docs \u001B[38;5;28;01mif\u001B[39;00m doc\u001B[38;5;241m.\u001B[39mmetadata[\u001B[38;5;124m'\u001B[39m\u001B[38;5;124muser_id\u001B[39m\u001B[38;5;124m'\u001B[39m] \u001B[38;5;241m!=\u001B[39m user_id]\n\u001B[1;32m      8\u001B[0m \u001B[38;5;28;01mreturn\u001B[39;00m user_docs\n",
      "Cell \u001B[0;32mIn[14], line 6\u001B[0m, in \u001B[0;36m<listcomp>\u001B[0;34m(.0)\u001B[0m\n\u001B[1;32m      3\u001B[0m similar_docs \u001B[38;5;241m=\u001B[39m vectorstore\u001B[38;5;241m.\u001B[39msimilarity_search_with_score(query, k\u001B[38;5;241m=\u001B[39m\u001B[38;5;241m5\u001B[39m)\n\u001B[1;32m      5\u001B[0m \u001B[38;5;66;03m# Filtra i documenti simili in base ai metadati\u001B[39;00m\n\u001B[0;32m----> 6\u001B[0m user_docs \u001B[38;5;241m=\u001B[39m [doc \u001B[38;5;28;01mfor\u001B[39;00m doc \u001B[38;5;129;01min\u001B[39;00m similar_docs \u001B[38;5;28;01mif\u001B[39;00m \u001B[43mdoc\u001B[49m\u001B[38;5;241;43m.\u001B[39;49m\u001B[43mmetadata\u001B[49m[\u001B[38;5;124m'\u001B[39m\u001B[38;5;124muser_id\u001B[39m\u001B[38;5;124m'\u001B[39m] \u001B[38;5;241m!=\u001B[39m user_id]\n\u001B[1;32m      8\u001B[0m \u001B[38;5;28;01mreturn\u001B[39;00m user_docs\n",
      "\u001B[0;31mAttributeError\u001B[0m: 'tuple' object has no attribute 'metadata'"
     ]
    }
   ],
   "execution_count": 14
  },
  {
   "metadata": {
    "ExecuteTime": {
     "end_time": "2024-08-24T22:16:50.599681Z",
     "start_time": "2024-08-24T22:16:50.456501Z"
    }
   },
   "cell_type": "code",
   "source": [
    "similar_docs = vectorstore.similarity_search_with_score(query, k=5)\n",
    "print(similar_docs)\n",
    "for doc in similar_docs:\n",
    "    print(doc[0].metadata['user_id'])"
   ],
   "id": "73c111d2aae220bc",
   "outputs": [
    {
     "name": "stderr",
     "output_type": "stream",
     "text": [
      "OllamaEmbeddings: 100%|██████████| 1/1 [00:00<00:00,  7.41it/s]"
     ]
    },
    {
     "name": "stdout",
     "output_type": "stream",
     "text": [
      "[(Document(metadata={'user_id': 'A1P2BNZCJZ0IOJ'}, page_content=\"title:The Five Love Languages: The Secret to Love that Lasts, authors:['Gary Chapman'], categories:['Family & Relationships'], review/score:5.0,title:The Happiest Baby on the Block: The New Way to Calm Crying and Help Your Newborn Baby Sleep Longer, authors:['Harvey Karp'], categories:['FAMILY & RELATIONSHIPS'], review/score:5.0\"), 90.99234008789062), (Document(metadata={'user_id': 'A2BQIPOSD57QFX'}, page_content=\"title:The Art of Kissing, authors:['William Cane'], categories:['Family & Relationships'], review/score:4.0\"), 154.9977569580078), (Document(metadata={'user_id': 'AZA2YLBR0I55P'}, page_content=\"title:Mrs. Fixit Easy Home Repair, authors:['Terri McGraw'], categories:['House & Home'], review/score:5.0\"), 158.13145446777344), (Document(metadata={'user_id': 'A29LE714CCC8D2'}, page_content=\"title:The Art of Mingling: Proven Techniques for Mastering Any Room, authors:['Jeanne Martinet'], categories:['Self-Help'], review/score:5.0\"), 163.35267639160156), (Document(metadata={'user_id': 'A318QE7XB4B5WD'}, page_content=\"title:A Lover's Guide to the Kama Sutra (Mini Book), authors:['Sephera Giron'], categories:['Self-Help'], review/score:5.0\"), 166.970703125)]\n",
      "A1P2BNZCJZ0IOJ\n",
      "A2BQIPOSD57QFX\n",
      "AZA2YLBR0I55P\n",
      "A29LE714CCC8D2\n",
      "A318QE7XB4B5WD\n"
     ]
    },
    {
     "name": "stderr",
     "output_type": "stream",
     "text": [
      "\n"
     ]
    }
   ],
   "execution_count": 17
  },
  {
   "metadata": {},
   "cell_type": "code",
   "outputs": [],
   "execution_count": null,
   "source": [
    "def recommend_books(user_id, vectorstore, top_k=5):\n",
    "    similar_users = find_similar_users(user_id, vectorstore, top_k)\n",
    "    \n",
    "    # Raccogliere i libri letti dagli utenti simili\n",
    "    recommended_books = []\n",
    "    user_books = vectorstore.similarity_search_with_score(f\"User_id: {user_id}\", k=1)[0][0].page_content\n",
    "    \n",
    "    for user in similar_users:\n",
    "        similar_user_books = user[0].page_content\n",
    "        # Filtra i libri che l'utente non ha ancora letto\n",
    "        new_books = [book for book in similar_user_books if book not in user_books]\n",
    "        recommended_books.extend(new_books)\n",
    "    \n",
    "    return set(recommended_books)  # Restituisci solo i libri unici\n",
    "\n",
    "# Esempio di utilizzo\n",
    "recommended_books = recommend_books(user_id, vectorstore)\n",
    "print(\"Books recommended:\", recommended_books)\n"
   ],
   "id": "ed7e22faa00e6b27"
  },
  {
   "metadata": {
    "ExecuteTime": {
     "end_time": "2024-08-23T16:37:51.723685Z",
     "start_time": "2024-08-23T16:37:51.628872Z"
    }
   },
   "cell_type": "code",
   "source": [
    "#1 Metodo\n",
    "query = \"If i liked Economics in one lesson, What other books like it could you suggest to me?\"\n",
    "docs = recommend_db.similarity_search(query, k=5)\n",
    "docs"
   ],
   "id": "7a5eff569ee83cb4",
   "outputs": [
    {
     "name": "stderr",
     "output_type": "stream",
     "text": [
      "OllamaEmbeddings: 100%|██████████| 1/1 [00:00<00:00, 11.53it/s]\n"
     ]
    },
    {
     "data": {
      "text/plain": [
       "[Document(metadata={'user_id': 5}, page_content=\"title:Economics in one lesson, description:With over a million copies sold, Economics in One Lesson is an essential guide to the basics of economic theory. A fundamental influence on modern libertarianism, Hazlitt defends capitalism and the free market from economic myths that persist to this day. Considered among the leading economic thinkers of the “Austrian School,” which includes Carl Menger, Ludwig von Mises, Friedrich (F.A.) Hayek, and others, Henry Hazlitt (1894-1993), was a libertarian philosopher, an economist, and a journalist. He was the founding vice-president of the Foundation for Economic Education and an early editor of The Freeman magazine, an influential libertarian publication. Hazlitt wrote Economics in One Lesson, his seminal work, in 1946. Concise and instructive, it is also deceptively prescient and far-reaching in its efforts to dissemble economic fallacies that are so prevalent they have almost become a new orthodoxy. Economic commentators across the political spectrum have credited Hazlitt with foreseeing the collapse of the global economy which occurred more than 50 years after the initial publication of Economics in One Lesson. Hazlitt’s focus on non-governmental solutions, strong — and strongly reasoned — anti-deficit position, and general emphasis on free markets, economic liberty of individuals, and the dangers of government intervention make Economics in One Lesson every bit as relevant and valuable today as it has been since publication., authors:['Henry Hazlitt'], categories:['Business & Economics'], ratingsCount:18.0\"),\n",
       " Document(metadata={'user_id': 58}, page_content=\"title:Multiple Choice & Free-Response Questions in Preparation for the AP Calculus (AB) Examination / Student's Solutions Manual: Eighth Edition, description:Reader, your life is full of choices. Some will bring you joy and others will bring you heartache. Will you choose to cheat (in life, the examination that follows) or will you choose to copy? Will you fall in love? If so, will you remember her name and the number of freckles on her back? Will you marry, divorce, annul? Will you leave your run-down neighbourhood, your long-suffering country and your family? Will you honour your dead, those you loved and those you didn't? Will you have a child, will you regret it? Will you tell them you regret it? Will you, when all's said and done, deserve a kick in the balls? Will you find, here, in this slender book, fictions that entertain and puzzle you? Fictions that reflect yourself back to you? Will you find yourself? Relax, concentrate, dispel any anxious thoughts. Let the world around you settle and fade. Are you ready? Now turn over your papers, and begin., authors:['Alejandro Zambra'], categories:['Fiction'], ratingsCount:5.0\"),\n",
       " Document(metadata={'user_id': 98}, page_content=\"title:The 2 1/2 Pillars of Wisdom (The Von Igelfeld Trilogy), description:Welcome to the extraordinary world of Professor Dr. Moritz-Maria von Igelfeld, an unnaturally tall and memorable character whose sublime insouciance is a blend of the cultivated pomposity of Frasier Crane and Inspector Clouseau’s hapless gaucherie. The complete exploits of this unlikely adventurer are delightfully captured in The 21⁄2 Pillars of Wisdom., authors:['Alexander McCall Smith'], categories:['Fiction'], ratingsCount:4.0\"),\n",
       " Document(metadata={'user_id': 54}, page_content=\"title:Vindication, description:Mary Wollstonecraft’s visionary treatise, originally published in 1792, was the first book to present women’s rights as an issue of universal human rights. Ideal for coursework and classroom study, this comprehensive edition of Wollstonecraft’s heartfelt feminist argument includes illuminating essays by leading scholars that highlight the author’s significant contributions to modern political philosophy, making a powerful case for her as one of the most substantive political thinkers of the Enlightenment era. No other scholarly work to date has examined as closely both the ideological moorings and the enduring legacy of Wollstonecraft’s groundbreaking and courageous discourse., authors:['Mary Wollstonecraft'], categories:['Philosophy'], ratingsCount:4.0\"),\n",
       " Document(metadata={'user_id': 59}, page_content=\"title:BIRDS BEASTS AND RELATIVES., description:The follow up to My Family and Other Animals and the second book in The Corfu Trilogy, the beloved books that inspired ITV's television series The Durrells. Just before the Second World War the Durrell family decamped to the glorious, sun-soaked island of Corfu where the youngest of the four children, ten-year-old Gerald, discovered his passion for animals: toads and tortoises, bats and butterflies, scorpions and octopuses. Through glorious silver-green olive groves and across brilliant-white beaches Gerry pursued his obsession . . . causing hilarity and mayhem in his ever-tolerant family., authors:['Gerald Durrell'], categories:nan, ratingsCount:21.0\")]"
      ]
     },
     "execution_count": 8,
     "metadata": {},
     "output_type": "execute_result"
    }
   ],
   "execution_count": 8
  },
  {
   "metadata": {},
   "cell_type": "code",
   "outputs": [],
   "execution_count": null,
   "source": [
    "from langchain.chains.retrieval_qa.base import RetrievalQA\n",
    "\n",
    "#2 Metodo\n",
    "qa = RetrievalQA.from_chain_type(llm=llm, chain_type = \"stuff\", retriever = recommend_db.as_retriever(), return_source_documents=True, verbose=True)"
   ],
   "id": "afb89900ba5ccc7"
  },
  {
   "metadata": {},
   "cell_type": "code",
   "outputs": [],
   "execution_count": null,
   "source": [
    "query = \"I'm looking for an drama book. What could you suggest to me?\"\n",
    "result = qa({\"query\": query})\n",
    "result['result']"
   ],
   "id": "481a8d6104cefa2f"
  },
  {
   "metadata": {
    "ExecuteTime": {
     "end_time": "2024-08-23T16:23:49.993203Z",
     "start_time": "2024-08-23T16:23:49.976220Z"
    }
   },
   "cell_type": "code",
   "source": "type(recommend_db)",
   "id": "d236d1f6cfdd5fd5",
   "outputs": [
    {
     "data": {
      "text/plain": [
       "langchain_community.vectorstores.chroma.Chroma"
      ]
     },
     "execution_count": 6,
     "metadata": {},
     "output_type": "execute_result"
    }
   ],
   "execution_count": 6
  },
  {
   "metadata": {},
   "cell_type": "code",
   "outputs": [],
   "execution_count": null,
   "source": "",
   "id": "5bd993e4a8a2bdc0"
  },
  {
   "metadata": {
    "ExecuteTime": {
     "end_time": "2024-08-25T22:26:38.321807Z",
     "start_time": "2024-08-25T22:26:38.298206Z"
    }
   },
   "cell_type": "code",
   "source": [
    "import re\n",
    "\n",
    "# Stringa di input\n",
    "data = \"title:Wuthering Heights (New Windmill), authors:['Emily Brontë'], categories:['Foundlings'], review/score:5.0,title:Wuthering Heights, authors:['Emily Bronte'], categories:nan, review/score:5.0,title:Wuthering Heights, authors:['Emily Bronte'], categories:nan, review/score:5.0,title:Wuthering Heights, authors:['Emily Bronte'], categories:nan, review/score:5.0,title:Wuthering Heights, authors:['Emily Bronte'], categories:nan, review/score:5.0,title:Wuthering Heights, authors:['Emily Bronte'], categories:nan, review/score:5.0,title:Wuthering Heights, authors:['Emily Bronte'], categories:nan, review/score:5.0,title:Wuthering Heights, authors:['Emily Bronte'], categories:nan, review/score:5.0,title:Wuthering Heights, authors:['Emily Bronte'], categories:nan, review/score:5.0,title:Wuthering Heights (Riverside editions), authors:['Emily Brontë'], categories:nan, review/score:5.0,title:Wuthering Heights (Penguin Audiobooks), authors:nan, categories:nan, review/score:5.0,title:Wuthering Heights., authors:['Emily Bronte'], categories:nan, review/score:5.0,title:Wuthering Heights (Signet classics), authors:['Emily Brontë'], categories:['Audiobooks'], review/score:5.0,title:Wuthering Heights (Signet classics), authors:['Emily Brontë'], categories:['Audiobooks'], review/score:5.0,title:Ego and Archetype, authors:['Edward F. Edinger'], categories:['Psychology'], review/score:5.0,title:Wuthering Heights (College classics in English), authors:['Emily Brontë'], categories:['Fiction'], review/score:5.0,title:Jane Eyre / Wuthering Heights, authors:['Charlotte Brontë'], categories:['Boarding schools'], review/score:5.0,title:The Sunday Philosophy Club (Isabel Dalhousie Mysteries), authors:['Alexander McCall Smith'], categories:['Fiction'], review/score:5.0,title:THE PHANTOM OF THE OPERA, authors:['Gaston Leroux'], categories:['Fiction'], review/score:5.0,title:Wuthering Heights (The Franklin Library), authors:['Emily Brontë'], categories:nan, review/score:5.0,title:Fresh from the Vegetarian Slow Cooker: 200 Recipes for Healthy and Hearty One-Pot Meals That Are Ready When You Are, authors:['Robin Robertson'], categories:['Cooking'], review/score:5.0\"\n",
    "\n",
    "# Estrai i titoli usando un'espressione regolare\n",
    "titles = re.findall(r'title:(.*?), authors', data)\n",
    "\n",
    "# Mostra i risultati\n",
    "print(type(titles))\n"
   ],
   "id": "6be1c8cbb595cc1f",
   "outputs": [
    {
     "name": "stdout",
     "output_type": "stream",
     "text": [
      "<class 'list'>\n"
     ]
    }
   ],
   "execution_count": 22
  },
  {
   "metadata": {},
   "cell_type": "code",
   "outputs": [],
   "execution_count": null,
   "source": "",
   "id": "c3b4e5706d13775e"
  }
 ],
 "metadata": {
  "kernelspec": {
   "display_name": "Python 3",
   "language": "python",
   "name": "python3"
  },
  "language_info": {
   "codemirror_mode": {
    "name": "ipython",
    "version": 2
   },
   "file_extension": ".py",
   "mimetype": "text/x-python",
   "name": "python",
   "nbconvert_exporter": "python",
   "pygments_lexer": "ipython2",
   "version": "2.7.6"
  }
 },
 "nbformat": 4,
 "nbformat_minor": 5
}
